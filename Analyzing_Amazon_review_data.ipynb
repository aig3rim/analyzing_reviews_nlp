{
 "cells": [
  {
   "cell_type": "markdown",
   "id": "e4862f75",
   "metadata": {},
   "source": [
    "# Analyzing Amazon review data"
   ]
  },
  {
   "cell_type": "markdown",
   "id": "450679d4",
   "metadata": {},
   "source": [
    "Amazon Fine Food reviews: https://www.kaggle.com/datasets/snap/amazon-fine-food-reviews?resource=download"
   ]
  },
  {
   "cell_type": "markdown",
   "id": "1339af28",
   "metadata": {},
   "source": [
    "## Settings"
   ]
  },
  {
   "cell_type": "code",
   "execution_count": 1,
   "id": "1d605225",
   "metadata": {},
   "outputs": [],
   "source": [
    "# Import necessary packages\n",
    "import pandas as pd\n",
    "import numpy as np\n",
    "from sklearn.feature_extraction.text import TfidfVectorizer\n",
    "from sklearn.decomposition import TruncatedSVD\n",
    "from numpy.linalg import norm\n",
    "from sklearn.preprocessing import normalize\n",
    "\n",
    "import matplotlib.pyplot as plt \n",
    "from sklearn.cluster import KMeans, MiniBatchKMeans"
   ]
  },
  {
   "cell_type": "code",
   "execution_count": 2,
   "id": "e7c2f9f7",
   "metadata": {},
   "outputs": [],
   "source": [
    "# Set a random seed\n",
    "np.random.seed(8)"
   ]
  },
  {
   "cell_type": "markdown",
   "id": "2311e1a3",
   "metadata": {},
   "source": [
    "## Data wrangling"
   ]
  },
  {
   "cell_type": "code",
   "execution_count": 3,
   "id": "fb872161",
   "metadata": {},
   "outputs": [],
   "source": [
    "df = pd.read_csv(\"./data/reviews_amazon_fine_food.csv\")"
   ]
  },
  {
   "cell_type": "code",
   "execution_count": 4,
   "id": "458543b9",
   "metadata": {},
   "outputs": [
    {
     "data": {
      "text/html": [
       "<div>\n",
       "<style scoped>\n",
       "    .dataframe tbody tr th:only-of-type {\n",
       "        vertical-align: middle;\n",
       "    }\n",
       "\n",
       "    .dataframe tbody tr th {\n",
       "        vertical-align: top;\n",
       "    }\n",
       "\n",
       "    .dataframe thead th {\n",
       "        text-align: right;\n",
       "    }\n",
       "</style>\n",
       "<table border=\"1\" class=\"dataframe\">\n",
       "  <thead>\n",
       "    <tr style=\"text-align: right;\">\n",
       "      <th></th>\n",
       "      <th>Id</th>\n",
       "      <th>ProductId</th>\n",
       "      <th>UserId</th>\n",
       "      <th>ProfileName</th>\n",
       "      <th>HelpfulnessNumerator</th>\n",
       "      <th>HelpfulnessDenominator</th>\n",
       "      <th>Score</th>\n",
       "      <th>Time</th>\n",
       "      <th>Summary</th>\n",
       "      <th>Text</th>\n",
       "    </tr>\n",
       "  </thead>\n",
       "  <tbody>\n",
       "    <tr>\n",
       "      <th>0</th>\n",
       "      <td>1</td>\n",
       "      <td>B001E4KFG0</td>\n",
       "      <td>A3SGXH7AUHU8GW</td>\n",
       "      <td>delmartian</td>\n",
       "      <td>1</td>\n",
       "      <td>1</td>\n",
       "      <td>5</td>\n",
       "      <td>1303862400</td>\n",
       "      <td>Good Quality Dog Food</td>\n",
       "      <td>I have bought several of the Vitality canned d...</td>\n",
       "    </tr>\n",
       "    <tr>\n",
       "      <th>1</th>\n",
       "      <td>2</td>\n",
       "      <td>B00813GRG4</td>\n",
       "      <td>A1D87F6ZCVE5NK</td>\n",
       "      <td>dll pa</td>\n",
       "      <td>0</td>\n",
       "      <td>0</td>\n",
       "      <td>1</td>\n",
       "      <td>1346976000</td>\n",
       "      <td>Not as Advertised</td>\n",
       "      <td>Product arrived labeled as Jumbo Salted Peanut...</td>\n",
       "    </tr>\n",
       "    <tr>\n",
       "      <th>2</th>\n",
       "      <td>3</td>\n",
       "      <td>B000LQOCH0</td>\n",
       "      <td>ABXLMWJIXXAIN</td>\n",
       "      <td>Natalia Corres \"Natalia Corres\"</td>\n",
       "      <td>1</td>\n",
       "      <td>1</td>\n",
       "      <td>4</td>\n",
       "      <td>1219017600</td>\n",
       "      <td>\"Delight\" says it all</td>\n",
       "      <td>This is a confection that has been around a fe...</td>\n",
       "    </tr>\n",
       "    <tr>\n",
       "      <th>3</th>\n",
       "      <td>4</td>\n",
       "      <td>B000UA0QIQ</td>\n",
       "      <td>A395BORC6FGVXV</td>\n",
       "      <td>Karl</td>\n",
       "      <td>3</td>\n",
       "      <td>3</td>\n",
       "      <td>2</td>\n",
       "      <td>1307923200</td>\n",
       "      <td>Cough Medicine</td>\n",
       "      <td>If you are looking for the secret ingredient i...</td>\n",
       "    </tr>\n",
       "    <tr>\n",
       "      <th>4</th>\n",
       "      <td>5</td>\n",
       "      <td>B006K2ZZ7K</td>\n",
       "      <td>A1UQRSCLF8GW1T</td>\n",
       "      <td>Michael D. Bigham \"M. Wassir\"</td>\n",
       "      <td>0</td>\n",
       "      <td>0</td>\n",
       "      <td>5</td>\n",
       "      <td>1350777600</td>\n",
       "      <td>Great taffy</td>\n",
       "      <td>Great taffy at a great price.  There was a wid...</td>\n",
       "    </tr>\n",
       "  </tbody>\n",
       "</table>\n",
       "</div>"
      ],
      "text/plain": [
       "   Id   ProductId          UserId                      ProfileName  \\\n",
       "0   1  B001E4KFG0  A3SGXH7AUHU8GW                       delmartian   \n",
       "1   2  B00813GRG4  A1D87F6ZCVE5NK                           dll pa   \n",
       "2   3  B000LQOCH0   ABXLMWJIXXAIN  Natalia Corres \"Natalia Corres\"   \n",
       "3   4  B000UA0QIQ  A395BORC6FGVXV                             Karl   \n",
       "4   5  B006K2ZZ7K  A1UQRSCLF8GW1T    Michael D. Bigham \"M. Wassir\"   \n",
       "\n",
       "   HelpfulnessNumerator  HelpfulnessDenominator  Score        Time  \\\n",
       "0                     1                       1      5  1303862400   \n",
       "1                     0                       0      1  1346976000   \n",
       "2                     1                       1      4  1219017600   \n",
       "3                     3                       3      2  1307923200   \n",
       "4                     0                       0      5  1350777600   \n",
       "\n",
       "                 Summary                                               Text  \n",
       "0  Good Quality Dog Food  I have bought several of the Vitality canned d...  \n",
       "1      Not as Advertised  Product arrived labeled as Jumbo Salted Peanut...  \n",
       "2  \"Delight\" says it all  This is a confection that has been around a fe...  \n",
       "3         Cough Medicine  If you are looking for the secret ingredient i...  \n",
       "4            Great taffy  Great taffy at a great price.  There was a wid...  "
      ]
     },
     "execution_count": 4,
     "metadata": {},
     "output_type": "execute_result"
    }
   ],
   "source": [
    "df.head()"
   ]
  },
  {
   "cell_type": "code",
   "execution_count": 5,
   "id": "3fa167a4",
   "metadata": {},
   "outputs": [
    {
     "name": "stdout",
     "output_type": "stream",
     "text": [
      "<class 'pandas.core.frame.DataFrame'>\n",
      "RangeIndex: 568454 entries, 0 to 568453\n",
      "Data columns (total 10 columns):\n",
      " #   Column                  Non-Null Count   Dtype \n",
      "---  ------                  --------------   ----- \n",
      " 0   Id                      568454 non-null  int64 \n",
      " 1   ProductId               568454 non-null  object\n",
      " 2   UserId                  568454 non-null  object\n",
      " 3   ProfileName             568438 non-null  object\n",
      " 4   HelpfulnessNumerator    568454 non-null  int64 \n",
      " 5   HelpfulnessDenominator  568454 non-null  int64 \n",
      " 6   Score                   568454 non-null  int64 \n",
      " 7   Time                    568454 non-null  int64 \n",
      " 8   Summary                 568427 non-null  object\n",
      " 9   Text                    568454 non-null  object\n",
      "dtypes: int64(5), object(5)\n",
      "memory usage: 43.4+ MB\n"
     ]
    }
   ],
   "source": [
    "df.info()"
   ]
  },
  {
   "cell_type": "markdown",
   "id": "17d1156c",
   "metadata": {},
   "source": [
    "## EDA"
   ]
  },
  {
   "cell_type": "code",
   "execution_count": 6,
   "id": "04be6500",
   "metadata": {},
   "outputs": [
    {
     "data": {
      "text/plain": [
       "0     I have bought several of the Vitality canned d...\n",
       "1     Product arrived labeled as Jumbo Salted Peanut...\n",
       "2     This is a confection that has been around a fe...\n",
       "3     If you are looking for the secret ingredient i...\n",
       "4     Great taffy at a great price.  There was a wid...\n",
       "5     I got a wild hair for taffy and ordered this f...\n",
       "6     This saltwater taffy had great flavors and was...\n",
       "7     This taffy is so good.  It is very soft and ch...\n",
       "8     Right now I'm mostly just sprouting this so my...\n",
       "9     This is a very healthy dog food. Good for thei...\n",
       "10    I don't know if it's the cactus or the tequila...\n",
       "11    One of my boys needed to lose some weight and ...\n",
       "12    My cats have been happily eating Felidae Plati...\n",
       "13    good flavor! these came securely packed... the...\n",
       "14    The Strawberry Twizzlers are my guilty pleasur...\n",
       "15    My daughter loves twizzlers and this shipment ...\n",
       "16    I love eating them and they are good for watch...\n",
       "17    I am very satisfied with my Twizzler purchase....\n",
       "18    Twizzlers, Strawberry my childhood favorite ca...\n",
       "19    Candy was delivered very fast and was purchase...\n",
       "Name: Text, dtype: object"
      ]
     },
     "execution_count": 6,
     "metadata": {},
     "output_type": "execute_result"
    }
   ],
   "source": [
    "df['Text'][:20]"
   ]
  },
  {
   "cell_type": "code",
   "execution_count": 7,
   "id": "7c9c3c9e",
   "metadata": {},
   "outputs": [
    {
     "name": "stdout",
     "output_type": "stream",
     "text": [
      "Number of unique users:  256059\n"
     ]
    }
   ],
   "source": [
    "print('Number of unique users: ', df['UserId'].nunique())"
   ]
  },
  {
   "cell_type": "code",
   "execution_count": 8,
   "id": "4100bd92",
   "metadata": {},
   "outputs": [
    {
     "name": "stdout",
     "output_type": "stream",
     "text": [
      "Number of reviewed products:  74258\n"
     ]
    }
   ],
   "source": [
    "print('Number of reviewed products: ', df['ProductId'].nunique())"
   ]
  },
  {
   "cell_type": "code",
   "execution_count": 9,
   "id": "d36a4cbe",
   "metadata": {},
   "outputs": [
    {
     "name": "stdout",
     "output_type": "stream",
     "text": [
      "Number of reviews:  568454\n"
     ]
    }
   ],
   "source": [
    "print('Number of reviews: ', df.shape[0])"
   ]
  },
  {
   "cell_type": "code",
   "execution_count": 10,
   "id": "2f68c431",
   "metadata": {},
   "outputs": [
    {
     "name": "stdout",
     "output_type": "stream",
     "text": [
      "On average, there are 2.2200117941568154 reviews per user\n"
     ]
    }
   ],
   "source": [
    "print('On average, there are {} reviews per user'.format(df.shape[0]/df['UserId'].nunique()))"
   ]
  },
  {
   "cell_type": "code",
   "execution_count": 11,
   "id": "44ec27e5",
   "metadata": {},
   "outputs": [
    {
     "name": "stdout",
     "output_type": "stream",
     "text": [
      "On average, there are 7.655121333728353 reviews per product\n"
     ]
    }
   ],
   "source": [
    "print('On average, there are {} reviews per product'.format(df.shape[0]/df['ProductId'].nunique()))"
   ]
  },
  {
   "cell_type": "code",
   "execution_count": 12,
   "id": "0d474aae",
   "metadata": {},
   "outputs": [
    {
     "data": {
      "text/plain": [
       "Index(['Id', 'ProductId', 'UserId', 'ProfileName', 'HelpfulnessNumerator',\n",
       "       'HelpfulnessDenominator', 'Score', 'Time', 'Summary', 'Text'],\n",
       "      dtype='object')"
      ]
     },
     "execution_count": 12,
     "metadata": {},
     "output_type": "execute_result"
    }
   ],
   "source": [
    "df.columns"
   ]
  },
  {
   "cell_type": "code",
   "execution_count": 13,
   "id": "f51a21f0",
   "metadata": {},
   "outputs": [
    {
     "data": {
      "text/html": [
       "<div>\n",
       "<style scoped>\n",
       "    .dataframe tbody tr th:only-of-type {\n",
       "        vertical-align: middle;\n",
       "    }\n",
       "\n",
       "    .dataframe tbody tr th {\n",
       "        vertical-align: top;\n",
       "    }\n",
       "\n",
       "    .dataframe thead th {\n",
       "        text-align: right;\n",
       "    }\n",
       "</style>\n",
       "<table border=\"1\" class=\"dataframe\">\n",
       "  <thead>\n",
       "    <tr style=\"text-align: right;\">\n",
       "      <th></th>\n",
       "      <th>Score</th>\n",
       "      <th>HelpfulnessNumerator</th>\n",
       "      <th>HelpfulnessDenominator</th>\n",
       "    </tr>\n",
       "  </thead>\n",
       "  <tbody>\n",
       "    <tr>\n",
       "      <th>count</th>\n",
       "      <td>568454.000000</td>\n",
       "      <td>568454.000000</td>\n",
       "      <td>568454.00000</td>\n",
       "    </tr>\n",
       "    <tr>\n",
       "      <th>mean</th>\n",
       "      <td>4.183199</td>\n",
       "      <td>1.743817</td>\n",
       "      <td>2.22881</td>\n",
       "    </tr>\n",
       "    <tr>\n",
       "      <th>std</th>\n",
       "      <td>1.310436</td>\n",
       "      <td>7.636513</td>\n",
       "      <td>8.28974</td>\n",
       "    </tr>\n",
       "    <tr>\n",
       "      <th>min</th>\n",
       "      <td>1.000000</td>\n",
       "      <td>0.000000</td>\n",
       "      <td>0.00000</td>\n",
       "    </tr>\n",
       "    <tr>\n",
       "      <th>25%</th>\n",
       "      <td>4.000000</td>\n",
       "      <td>0.000000</td>\n",
       "      <td>0.00000</td>\n",
       "    </tr>\n",
       "    <tr>\n",
       "      <th>50%</th>\n",
       "      <td>5.000000</td>\n",
       "      <td>0.000000</td>\n",
       "      <td>1.00000</td>\n",
       "    </tr>\n",
       "    <tr>\n",
       "      <th>75%</th>\n",
       "      <td>5.000000</td>\n",
       "      <td>2.000000</td>\n",
       "      <td>2.00000</td>\n",
       "    </tr>\n",
       "    <tr>\n",
       "      <th>max</th>\n",
       "      <td>5.000000</td>\n",
       "      <td>866.000000</td>\n",
       "      <td>923.00000</td>\n",
       "    </tr>\n",
       "  </tbody>\n",
       "</table>\n",
       "</div>"
      ],
      "text/plain": [
       "               Score  HelpfulnessNumerator  HelpfulnessDenominator\n",
       "count  568454.000000         568454.000000            568454.00000\n",
       "mean        4.183199              1.743817                 2.22881\n",
       "std         1.310436              7.636513                 8.28974\n",
       "min         1.000000              0.000000                 0.00000\n",
       "25%         4.000000              0.000000                 0.00000\n",
       "50%         5.000000              0.000000                 1.00000\n",
       "75%         5.000000              2.000000                 2.00000\n",
       "max         5.000000            866.000000               923.00000"
      ]
     },
     "execution_count": 13,
     "metadata": {},
     "output_type": "execute_result"
    }
   ],
   "source": [
    "df[['Score', 'HelpfulnessNumerator', 'HelpfulnessDenominator']].describe()"
   ]
  },
  {
   "cell_type": "code",
   "execution_count": 14,
   "id": "90c14f38",
   "metadata": {},
   "outputs": [
    {
     "data": {
      "image/png": "[encoded data removed]",
      "text/plain": [
       "<Figure size 432x288 with 1 Axes>"
      ]
     },
     "metadata": {
      "needs_background": "light"
     },
     "output_type": "display_data"
    }
   ],
   "source": [
    "df['Score'].value_counts(normalize=True).plot.bar(color='dodgerblue');"
   ]
  },
  {
   "cell_type": "code",
   "execution_count": 15,
   "id": "f7a43e12",
   "metadata": {},
   "outputs": [
    {
     "data": {
      "text/plain": [
       "Delicious!       2462\n",
       "Delicious        2316\n",
       "Yummy!           1594\n",
       "Yummy            1268\n",
       "Great product    1091\n",
       "Yum!             1081\n",
       "Excellent         985\n",
       "Great Product     910\n",
       "Love it!          910\n",
       "Great             749\n",
       "Great!            748\n",
       "Tasty             645\n",
       "Yum               618\n",
       "Disappointed      587\n",
       "Excellent!        573\n",
       "Great Coffee      558\n",
       "Awesome!          550\n",
       "Awesome           546\n",
       "Good stuff        515\n",
       "yummy             512\n",
       "Name: Summary, dtype: int64"
      ]
     },
     "execution_count": 15,
     "metadata": {},
     "output_type": "execute_result"
    }
   ],
   "source": [
    "df['Summary'].value_counts()[:20]"
   ]
  },
  {
   "cell_type": "code",
   "execution_count": 16,
   "id": "2ff8bd2f",
   "metadata": {},
   "outputs": [
    {
     "data": {
      "text/plain": [
       "\"I don't know if it's the cactus or the tequila or just the unique combination of ingredients, but the flavour of this hot sauce makes it one of a kind!  We picked up a bottle once on a trip we were on and brought it back home with us and were totally blown away!  When we realized that we simply couldn't find it anywhere in our city we were bummed.<br /><br />Now, because of the magic of the internet, we have a case of the sauce and are ecstatic because of it.<br /><br />If you love hot sauce..I mean really love hot sauce, but don't want a sauce that tastelessly burns your throat, grab a bottle of Tequila Picante Gourmet de Inclan.  Just realize that once you taste it, you will never want to use any other sauce.<br /><br />Thank you for the personal, incredible service!\""
      ]
     },
     "execution_count": 16,
     "metadata": {},
     "output_type": "execute_result"
    }
   ],
   "source": [
    "df['Text'][10]"
   ]
  },
  {
   "cell_type": "code",
   "execution_count": 17,
   "id": "dbfec172",
   "metadata": {},
   "outputs": [
    {
     "data": {
      "text/plain": [
       "\"Even with small containers, they don't fill them up.  These little tins are less than half filled and at the price charged it seems a rip-off. Is there some exotic ingredient as costly as gold contained in those tiny squares?  Or how about the cereal ploy, they were filled at the factory but settled in transport.<br />Can manufacturers be honest in their dealings?\""
      ]
     },
     "execution_count": 17,
     "metadata": {},
     "output_type": "execute_result"
    }
   ],
   "source": [
    "df['Text'][200]"
   ]
  },
  {
   "cell_type": "code",
   "execution_count": 18,
   "id": "eae461a1",
   "metadata": {},
   "outputs": [
    {
     "data": {
      "text/plain": [
       "\"This stuff is really good added to oatmeal or greek yogurt.  As for a PB sandwich?  Not as sure.  I've mixed it with jelly, and it's pretty good, but I missed the texture contrast that you get with real PB.  I mitigate this by adding a very thin layer (I have a problem with putting WAY too much PB on) of real PB to my bread and then supplementing with the powdered stuff.  It works better that way, I think, and I don't get all the calories from using all regular PB.  I probably wouldn't buy this from amazon again because of the price, but I'm glad I tried it, and if it's on sale at whole foods or something I'd buy it.<br /><br />Oh, be careful when you're opening the jar for the first time...no sudden movements or you'll be covered in PB powder, and at this price, every grain is precious!\""
      ]
     },
     "execution_count": 18,
     "metadata": {},
     "output_type": "execute_result"
    }
   ],
   "source": [
    "df['Text'][18000]"
   ]
  },
  {
   "cell_type": "code",
   "execution_count": 19,
   "id": "24d0b5b6",
   "metadata": {},
   "outputs": [
    {
     "data": {
      "text/plain": [
       "\"Warning -- this product contains nutrisweet, which I and may others are allergic to -- they don't say it on the amazon website so be careful!!!\""
      ]
     },
     "execution_count": 19,
     "metadata": {},
     "output_type": "execute_result"
    }
   ],
   "source": [
    "df['Text'][345907]"
   ]
  },
  {
   "cell_type": "code",
   "execution_count": 20,
   "id": "8fec28c0",
   "metadata": {},
   "outputs": [
    {
     "data": {
      "text/plain": [
       "\"I have lived out of the US for over 7 yrs now, and I so miss my Twizzlers!!  When I go back to visit or someone visits me, I always stock up.  All I can say is YUM!<br />Sell these in Mexico and you will have a faithful buyer, more often than I'm able to buy them right now.\""
      ]
     },
     "execution_count": 20,
     "metadata": {},
     "output_type": "execute_result"
    }
   ],
   "source": [
    "df['Text'][24]"
   ]
  },
  {
   "cell_type": "code",
   "execution_count": 21,
   "id": "2a439ad6",
   "metadata": {},
   "outputs": [
    {
     "data": {
      "text/plain": [
       "\"We're staying at Stanford's Children's Hospital with my son, and I'm sure I don't have to elaborate how 'pleasant' hospital cafeteria food can be, even at a 'great' cafeteria (as hospital cafeteria's go, Stanford's is actually very good. But it is still cafeteria food). On weekends the Children's side cafeteria closes down so you have to go over to the main hospital's cafeteria for dinner. Grabbed a turkey sandwich and was looking for some chips or something crunchy, and I saw these. I'm a big coconut fan so I figured I couldn't go wrong, and it's healthier than potato chips so I'm game. I made the mistake of trying a bite of them before I had my sandwich, I didn't want to put the bag down! Holy smokes, seriously the best 'chip substitute' I've ever had, and if they weren't so expensive I'd switch over from potato chips completely!! Perfect combination of salty/sweet, loads of coconut flavor (I've had some where it's really subtle and mild, this definitely is not), great size strips (like someone said, looks like they put it through a strip paper shredder just a bit wider), perfect crunchiness. Anyways, definitely a rare treat because of the expense, but so worth every penny! I may have to grab another bag for the road home though before we get discharged this afternoon. ; )\""
      ]
     },
     "execution_count": 21,
     "metadata": {},
     "output_type": "execute_result"
    }
   ],
   "source": [
    "df['Text'][200783]"
   ]
  },
  {
   "cell_type": "code",
   "execution_count": 22,
   "id": "79a91e84",
   "metadata": {},
   "outputs": [
    {
     "data": {
      "text/plain": [
       "(142924, 10)"
      ]
     },
     "execution_count": 22,
     "metadata": {},
     "output_type": "execute_result"
    }
   ],
   "source": [
    "df[df['Text'].str.contains('<br />')].shape"
   ]
  },
  {
   "cell_type": "markdown",
   "id": "28a821f8",
   "metadata": {},
   "source": [
    "142,924 rows contain `<br />` characters."
   ]
  },
  {
   "cell_type": "markdown",
   "id": "1b4575ed",
   "metadata": {},
   "source": [
    "Let us check other characters related to HTML syntax"
   ]
  },
  {
   "cell_type": "code",
   "execution_count": 23,
   "id": "ec7f068c",
   "metadata": {},
   "outputs": [
    {
     "data": {
      "text/plain": [
       "10        I don't know if it's the cactus or the tequila...\n",
       "18        Twizzlers, Strawberry my childhood favorite ca...\n",
       "21        I bought these for my husband who is currently...\n",
       "24        I have lived out of the US for over 7 yrs now,...\n",
       "25        Product received is as advertised.<br /><br />...\n",
       "                                ...                        \n",
       "568430    This product is a bit pricey for the amt. rece...\n",
       "568433    I just bought this soup today at my local groc...\n",
       "568439    We need this for a recipe my wife is intereste...\n",
       "568446    I had ordered some of these a few months back ...\n",
       "568447    Hoping there is no MSG in this, this tastes ex...\n",
       "Name: Text, Length: 147324, dtype: object"
      ]
     },
     "execution_count": 23,
     "metadata": {},
     "output_type": "execute_result"
    }
   ],
   "source": [
    "df[df['Text'].str.contains('<')]['Text']"
   ]
  },
  {
   "cell_type": "code",
   "execution_count": 24,
   "id": "e390a23a",
   "metadata": {},
   "outputs": [
    {
     "data": {
      "text/plain": [
       "\"I have lived out of the US for over 7 yrs now, and I so miss my Twizzlers!!  When I go back to visit or someone visits me, I always stock up.  All I can say is YUM!<br />Sell these in Mexico and you will have a faithful buyer, more often than I'm able to buy them right now.\""
      ]
     },
     "execution_count": 24,
     "metadata": {},
     "output_type": "execute_result"
    }
   ],
   "source": [
    "df[df['Text'].str.contains('<')]['Text'].iloc[3]"
   ]
  },
  {
   "cell_type": "code",
   "execution_count": 25,
   "id": "c1d713a7",
   "metadata": {},
   "outputs": [
    {
     "data": {
      "text/plain": [
       "'Product received is as advertised.<br /><br /><a href=\"http://www.amazon.com/gp/product/B001GVISJM\">Twizzlers, Strawberry, 16-Ounce Bags (Pack of 6)</a>'"
      ]
     },
     "execution_count": 25,
     "metadata": {},
     "output_type": "execute_result"
    }
   ],
   "source": [
    "df[df['Text'].str.contains('<')]['Text'].iloc[4]"
   ]
  },
  {
   "cell_type": "code",
   "execution_count": 26,
   "id": "f1c2bdc1",
   "metadata": {},
   "outputs": [
    {
     "data": {
      "text/plain": [
       "'I was so glad Amazon carried these batteries.  I have a hard time finding them elsewhere because they are such a unique size.  I need them for my garage door opener.<br />Great deal for the price.'"
      ]
     },
     "execution_count": 26,
     "metadata": {},
     "output_type": "execute_result"
    }
   ],
   "source": [
    "df[df['Text'].str.contains('<')]['Text'].iloc[5]"
   ]
  },
  {
   "cell_type": "code",
   "execution_count": 27,
   "id": "76a3aa0a",
   "metadata": {},
   "outputs": [
    {
     "data": {
      "text/plain": [
       "['br /',\n",
       " 'br /',\n",
       " 'br /',\n",
       " 'br /',\n",
       " 'br /',\n",
       " 'br /',\n",
       " 'br /',\n",
       " 'br /',\n",
       " 'br /',\n",
       " 'br /',\n",
       " 'br /',\n",
       " 'br /',\n",
       " 'br /',\n",
       " 'br /',\n",
       " 'br /',\n",
       " 'br /',\n",
       " 'br /',\n",
       " 'br /',\n",
       " 'br /',\n",
       " 'br /']"
      ]
     },
     "execution_count": 27,
     "metadata": {},
     "output_type": "execute_result"
    }
   ],
   "source": [
    "[itm[0] for itm in df['Text'].str.findall(\"\\<(.*?)\\>\") if len(itm)>0][:20]"
   ]
  },
  {
   "cell_type": "code",
   "execution_count": 28,
   "id": "936b52db",
   "metadata": {
    "scrolled": true
   },
   "outputs": [
    {
     "data": {
      "text/plain": [
       "['br /',\n",
       " 'br /',\n",
       " 'br /',\n",
       " 'br /',\n",
       " 'br /',\n",
       " 'br /',\n",
       " 'br /',\n",
       " 'br /',\n",
       " 'br /',\n",
       " 'br /',\n",
       " 'a href=\"http://www.amazon.com/gp/product/B000F782JY\"',\n",
       " 'a href=\"http://www.amazon.com/gp/product/B004BY23I8\"',\n",
       " 'br /',\n",
       " 'br /',\n",
       " 'br /',\n",
       " 'br /',\n",
       " 'br /',\n",
       " 'br /',\n",
       " 'br /',\n",
       " 'br /']"
      ]
     },
     "execution_count": 28,
     "metadata": {},
     "output_type": "execute_result"
    }
   ],
   "source": [
    "[itm[0] for itm in df['Text'].str.findall(\"\\<(.*?)\\>\") if len(itm)>0][-20:]"
   ]
  },
  {
   "cell_type": "markdown",
   "id": "f79de44b",
   "metadata": {},
   "source": [
    "Apart from `<br />` characters, there are other HTML syntax related characters."
   ]
  },
  {
   "cell_type": "code",
   "execution_count": 29,
   "id": "6080eb93",
   "metadata": {},
   "outputs": [
    {
     "data": {
      "text/plain": [
       "0.30763263166412763"
      ]
     },
     "execution_count": 29,
     "metadata": {},
     "output_type": "execute_result"
    }
   ],
   "source": [
    "df[df.duplicated(subset='Text')].shape[0] / df.shape[0]"
   ]
  },
  {
   "cell_type": "markdown",
   "id": "795543a0",
   "metadata": {},
   "source": [
    "About 30% of the data contains duplicated data"
   ]
  },
  {
   "cell_type": "code",
   "execution_count": 30,
   "id": "16880d11",
   "metadata": {},
   "outputs": [
    {
     "data": {
      "text/plain": [
       "29        I don't know if it's the cactus or the tequila...\n",
       "574       I'm addicted to salty and tangy flavors, so wh...\n",
       "603       I'm addicted to salty and tangy flavors, so wh...\n",
       "1973      The pork chops from Omaha Steaks were very tas...\n",
       "2309      Too much of the white pith on this orange peel...\n",
       "                                ...                        \n",
       "568409    I was very pleased with the ingredient quality...\n",
       "568410    My main reason for the five star review has to...\n",
       "568411    I bought this to try on two registered Maine C...\n",
       "568412    When we brought home two 3-month-old purebred ...\n",
       "568413    My cats don't like it. what else can I say to ...\n",
       "Name: Text, Length: 174875, dtype: object"
      ]
     },
     "execution_count": 30,
     "metadata": {},
     "output_type": "execute_result"
    }
   ],
   "source": [
    "df[df.duplicated(subset='Text')]['Text']"
   ]
  },
  {
   "cell_type": "code",
   "execution_count": 31,
   "id": "5e7b4662",
   "metadata": {},
   "outputs": [
    {
     "data": {
      "text/plain": [
       "'I\\'m addicted to salty and tangy flavors, so when I opened my first bag of Sea Salt & Vinegar Kettle Brand chips I knew I had a perfect complement to my vegetable trays of cucumber, carrot, celery and cherry tomatoes. Skip the dip; balance the tangy chips by alternating bites of raw vegetable.<br /><br />As an Oregonian, I\\'m proud to share these delectable snacks with friends, especially those living outside our state and who haven\\'t experienced gourmet chips. I tell them Kettle Brand does for potato chips what microbrews did for beer.<br /><br />Kettle Brand potato chips are unmistakable--a light gold color, rich flavor and amazing crunch. Kettle Brand chips are also a healthier snacking option than the major chip brands. Kettle Brand chips don\\'t have trans fats, MSG or artificial flavors and colorings. The company also has a line of organic potato chips and all of their products are certified Kosher.<br /><br />I also recommend <a href=\"http://www.amazon.com/gp/product/B000G6MBV4\">Kettle Chips Honey Dijon</a> and <a href=\"http://www.amazon.com/gp/product/B000G6Q4GM\">Kettle Chips Spicy Thai</a>.<br /><br />Annette Solomon, a reporter for the Salem Statesman Journal recently noted that a glass of wine goes nicely with these chips. Solomon wrote, \"...you could be missing out on a wonderful pairing. These chips are spicy, so you would want to select a semi-sweet white wine. Also, a moderate amount of acid will subdue the strong flavors of ginger, lime, garlic and cilantro without over-powering them. Classically, a German-style Riesling fits these parameters perfectly.\"'"
      ]
     },
     "execution_count": 31,
     "metadata": {},
     "output_type": "execute_result"
    }
   ],
   "source": [
    "df[df.duplicated(subset='Text')]['Text'].iloc[2]"
   ]
  },
  {
   "cell_type": "code",
   "execution_count": 32,
   "id": "634b37dd",
   "metadata": {},
   "outputs": [
    {
     "data": {
      "text/plain": [
       "'I\\'m addicted to salty and tangy flavors, so when I opened my first bag of Sea Salt & Vinegar Kettle Brand chips I knew I had a perfect complement to my vegetable trays of cucumber, carrot, celery and cherry tomatoes. Skip the dip; balance the tangy chips by alternating bites of raw vegetable.<br /><br />As an Oregonian, I\\'m proud to share these delectable snacks with friends, especially those living outside our state and who haven\\'t experienced gourmet chips. I tell them Kettle Brand does for potato chips what microbrews did for beer.<br /><br />Kettle Brand potato chips are unmistakable--a light gold color, rich flavor and amazing crunch. Kettle Brand chips are also a healthier snacking option than the major chip brands. Kettle Brand chips don\\'t have trans fats, MSG or artificial flavors and colorings. The company also has a line of organic potato chips and all of their products are certified Kosher.<br /><br />I also recommend <a href=\"http://www.amazon.com/gp/product/B000G6MBV4\">Kettle Chips Honey Dijon</a> and <a href=\"http://www.amazon.com/gp/product/B000G6Q4GM\">Kettle Chips Spicy Thai</a>.<br /><br />Annette Solomon, a reporter for the Salem Statesman Journal recently noted that a glass of wine goes nicely with these chips. Solomon wrote, \"...you could be missing out on a wonderful pairing. These chips are spicy, so you would want to select a semi-sweet white wine. Also, a moderate amount of acid will subdue the strong flavors of ginger, lime, garlic and cilantro without over-powering them. Classically, a German-style Riesling fits these parameters perfectly.\"'"
      ]
     },
     "execution_count": 32,
     "metadata": {},
     "output_type": "execute_result"
    }
   ],
   "source": [
    "df[df.duplicated(subset='Text')]['Text'].iloc[1]"
   ]
  },
  {
   "cell_type": "markdown",
   "id": "50fd82c0",
   "metadata": {},
   "source": [
    "There are some reviews with duplicated data."
   ]
  },
  {
   "cell_type": "code",
   "execution_count": 33,
   "id": "fd7cd7ac",
   "metadata": {},
   "outputs": [
    {
     "data": {
      "text/plain": [
       "'You are receiving this from the world\\'s biggest skeptic. My 13-year-old son convinced me to buy four of your Brain Toniq drinks at Wholefoods even though I told him it was a big joke to think a drink could make you focus any clearer or have any positive effect whatsoever. We each drank one of your drinks around 2:30 pm. I couldn not believe it--I felt clear headed, in a great mood all afternoon and evening. I felt \"sharp\" in two business meetings that afternoon and actually forgot I had taken one of the drinks. My 17-year-old son commented about my great mood and why was I so happy? It was then that it dawned on me that my day was no different than most, except for the Brain Toniq drink. My skeptism kicked in again. The drink could not be responsible for how I felt.<br /><br />So the next day I took another one of the drinks and again, same great mood, same happy feeling, same sharpness of thought and my entire family noticed. Wow! If anyone thinks this is just another marketing ploy or scam to get people to buy some kind of energy drink, forget it...this is the REAL deal. You have my permission to let anyone read my email to you or even inquire with me! Finally a company that actually delivers on their promise. Thank you so much! (By the way, we went back and cleaned out Wholefood\\'s inventory, HA!)<br /><br />Ray Ramirez<br /><br />Highlands Ranch, Colorado'"
      ]
     },
     "execution_count": 33,
     "metadata": {},
     "output_type": "execute_result"
    }
   ],
   "source": [
    "df[df['Text'].str.contains('couldn ')]['Text'].iloc[2]"
   ]
  },
  {
   "cell_type": "code",
   "execution_count": 34,
   "id": "c42b24c1",
   "metadata": {},
   "outputs": [
    {
     "data": {
      "text/plain": [
       "537585    Couldn not believe the reaction of the receive...\n",
       "Name: Text, dtype: object"
      ]
     },
     "execution_count": 34,
     "metadata": {},
     "output_type": "execute_result"
    }
   ],
   "source": [
    "df[df['Text'].str.contains('Couldn ')]['Text']"
   ]
  },
  {
   "cell_type": "code",
   "execution_count": 35,
   "id": "5c89e7f2",
   "metadata": {},
   "outputs": [
    {
     "data": {
      "text/plain": [
       "\"My elderly cat was ill for an unknown reason and lost so much weight, I thought for sure I'd be putting her to sleep.  The vet did tests and couldn not determine a reason for the reversal in health.  She has eaten dry food her whole life and turned up her nose at wet food until she ate this formula of Pro Plan.  She loved it!  It's way too expensive, but much cheaper here than in a store and my cat regained most of her weight, is in great shape again, and continues to chow down on this food.\""
      ]
     },
     "execution_count": 35,
     "metadata": {},
     "output_type": "execute_result"
    }
   ],
   "source": [
    "df[df['Text'].str.contains('couldn ')]['Text'].iloc[1]"
   ]
  },
  {
   "cell_type": "code",
   "execution_count": 36,
   "id": "ce77f8ea",
   "metadata": {},
   "outputs": [
    {
     "data": {
      "text/plain": [
       "\"Tasty and a good buy.  Beware.....these boxes are big!  I wouldn buy again but don't have a cabinet big enough to fit them.  Great buy for a large family but overkill for an old single like me.  The product is very good and I enjoy eating them as a snack with no milk and sometimes as a snack with milk.\""
      ]
     },
     "execution_count": 36,
     "metadata": {},
     "output_type": "execute_result"
    }
   ],
   "source": [
    "df[df['Text'].str.contains('wouldn ')]['Text'].iloc[0]"
   ]
  },
  {
   "cell_type": "code",
   "execution_count": 37,
   "id": "e55ed832",
   "metadata": {},
   "outputs": [
    {
     "data": {
      "text/plain": [
       "Series([], Name: Text, dtype: object)"
      ]
     },
     "execution_count": 37,
     "metadata": {},
     "output_type": "execute_result"
    }
   ],
   "source": [
    "df[df['Text'].str.contains('Wouldn ')]['Text']"
   ]
  },
  {
   "cell_type": "markdown",
   "id": "389153e6",
   "metadata": {},
   "source": [
    "There is some misspellings like 'Couldn'and 'Wouldn'."
   ]
  },
  {
   "cell_type": "markdown",
   "id": "b5fff3f1",
   "metadata": {},
   "source": [
    "## Data cleaning"
   ]
  },
  {
   "cell_type": "code",
   "execution_count": 38,
   "id": "f9f65dec",
   "metadata": {},
   "outputs": [],
   "source": [
    "# Let us create a copy of a dataframe for further cleaning\n",
    "df_clean = df.copy()"
   ]
  },
  {
   "cell_type": "markdown",
   "id": "9855c4fe",
   "metadata": {},
   "source": [
    "### Remove all HTML related characters"
   ]
  },
  {
   "cell_type": "code",
   "execution_count": 39,
   "id": "f63c7483",
   "metadata": {},
   "outputs": [],
   "source": [
    "df_clean['Text'] = df_clean['Text'].replace(to_replace =\"\\<(.*?)\\>\", value = \"\", regex = True)"
   ]
  },
  {
   "cell_type": "code",
   "execution_count": 40,
   "id": "9d5ef222",
   "metadata": {},
   "outputs": [
    {
     "data": {
      "text/plain": [
       "[]"
      ]
     },
     "execution_count": 40,
     "metadata": {},
     "output_type": "execute_result"
    }
   ],
   "source": [
    "[itm[0] for itm in df_clean['Text'].str.findall(\"\\<(.*?)\\>\") if len(itm)>0]"
   ]
  },
  {
   "cell_type": "code",
   "execution_count": 41,
   "id": "13889e3a",
   "metadata": {},
   "outputs": [
    {
     "data": {
      "text/plain": [
       "\"I don't know if it's the cactus or the tequila or just the unique combination of ingredients, but the flavour of this hot sauce makes it one of a kind!  We picked up a bottle once on a trip we were on and brought it back home with us and were totally blown away!  When we realized that we simply couldn't find it anywhere in our city we were bummed.Now, because of the magic of the internet, we have a case of the sauce and are ecstatic because of it.If you love hot sauce..I mean really love hot sauce, but don't want a sauce that tastelessly burns your throat, grab a bottle of Tequila Picante Gourmet de Inclan.  Just realize that once you taste it, you will never want to use any other sauce.Thank you for the personal, incredible service!\""
      ]
     },
     "execution_count": 41,
     "metadata": {},
     "output_type": "execute_result"
    }
   ],
   "source": [
    "df_clean['Text'][10]"
   ]
  },
  {
   "cell_type": "markdown",
   "id": "29c29d57",
   "metadata": {},
   "source": [
    "### Remove duplicated data"
   ]
  },
  {
   "cell_type": "code",
   "execution_count": 42,
   "id": "9823e028",
   "metadata": {},
   "outputs": [],
   "source": [
    "df_clean.drop_duplicates(subset='Text', keep='first', inplace=True)"
   ]
  },
  {
   "cell_type": "code",
   "execution_count": 43,
   "id": "f79cf5db",
   "metadata": {},
   "outputs": [
    {
     "data": {
      "text/plain": [
       "0"
      ]
     },
     "execution_count": 43,
     "metadata": {},
     "output_type": "execute_result"
    }
   ],
   "source": [
    "df_clean[df_clean.duplicated(subset='Text')].shape[0]"
   ]
  },
  {
   "cell_type": "code",
   "execution_count": 44,
   "id": "f4228d15",
   "metadata": {},
   "outputs": [
    {
     "data": {
      "text/plain": [
       "(393554, 10)"
      ]
     },
     "execution_count": 44,
     "metadata": {},
     "output_type": "execute_result"
    }
   ],
   "source": [
    "# DataFrame size before sampling\n",
    "df_clean.shape"
   ]
  },
  {
   "cell_type": "code",
   "execution_count": 45,
   "id": "1f313839",
   "metadata": {},
   "outputs": [
    {
     "data": {
      "text/plain": [
       "0.6923233894035401"
      ]
     },
     "execution_count": 45,
     "metadata": {},
     "output_type": "execute_result"
    }
   ],
   "source": [
    "df_clean.shape[0] / df.shape[0]"
   ]
  },
  {
   "cell_type": "markdown",
   "id": "c9038b5a",
   "metadata": {},
   "source": [
    "### Fix misspelling"
   ]
  },
  {
   "cell_type": "code",
   "execution_count": 46,
   "id": "c64c94a4",
   "metadata": {},
   "outputs": [],
   "source": [
    "df_clean['Text'] = df_clean['Text'].str.replace('couldn ', 'could ')\n",
    "df_clean['Text'] = df_clean['Text'].str.replace('wouldn ', 'would not')\n",
    "\n",
    "df_clean['Text'] = df_clean['Text'].str.replace('Couldn ', 'Could ')\n",
    "df_clean['Text'] = df_clean['Text'].str.replace('Wouldn ', 'Would ')"
   ]
  },
  {
   "cell_type": "code",
   "execution_count": 47,
   "id": "29272b6f",
   "metadata": {},
   "outputs": [
    {
     "data": {
      "text/plain": [
       "\"I don't know if it's the cactus or the tequila or just the unique combination of ingredients, but the flavour of this hot sauce makes it one of a kind!  We picked up a bottle once on a trip we were on and brought it back home with us and were totally blown away!  When we realized that we simply couldn't find it anywhere in our city we were bummed.Now, because of the magic of the internet, we have a case of the sauce and are ecstatic because of it.If you love hot sauce..I mean really love hot sauce, but don't want a sauce that tastelessly burns your throat, grab a bottle of Tequila Picante Gourmet de Inclan.  Just realize that once you taste it, you will never want to use any other sauce.Thank you for the personal, incredible service!\""
      ]
     },
     "execution_count": 47,
     "metadata": {},
     "output_type": "execute_result"
    }
   ],
   "source": [
    "df_clean[df_clean['Text'].str.contains('couldn')]['Text'].iloc[0]"
   ]
  },
  {
   "cell_type": "markdown",
   "id": "485f4847",
   "metadata": {},
   "source": [
    "### Take a random sample"
   ]
  },
  {
   "cell_type": "code",
   "execution_count": 48,
   "id": "66a2379a",
   "metadata": {},
   "outputs": [],
   "source": [
    "df_clean = df_clean.sample(frac=0.5, replace=False, random_state=23)"
   ]
  },
  {
   "cell_type": "code",
   "execution_count": 49,
   "id": "0d03a128",
   "metadata": {},
   "outputs": [
    {
     "data": {
      "text/plain": [
       "(196777, 10)"
      ]
     },
     "execution_count": 49,
     "metadata": {},
     "output_type": "execute_result"
    }
   ],
   "source": [
    "df_clean.shape"
   ]
  },
  {
   "cell_type": "code",
   "execution_count": 50,
   "id": "02fd9515",
   "metadata": {},
   "outputs": [
    {
     "data": {
      "text/plain": [
       "(568454, 10)"
      ]
     },
     "execution_count": 50,
     "metadata": {},
     "output_type": "execute_result"
    }
   ],
   "source": [
    "df.shape"
   ]
  },
  {
   "cell_type": "code",
   "execution_count": 51,
   "id": "16c15e39",
   "metadata": {},
   "outputs": [],
   "source": [
    "del df"
   ]
  },
  {
   "cell_type": "markdown",
   "id": "5c8a8365",
   "metadata": {},
   "source": [
    "## NLP analysis of text data"
   ]
  },
  {
   "cell_type": "markdown",
   "id": "55104d7b",
   "metadata": {},
   "source": [
    "### Vectorizing data"
   ]
  },
  {
   "cell_type": "code",
   "execution_count": 52,
   "id": "7ca9e5d9",
   "metadata": {},
   "outputs": [],
   "source": [
    "tfidf_vectorizer = TfidfVectorizer(stop_words='english')\n",
    "tfidf_matrix = tfidf_vectorizer.fit_transform(df_clean['Text'])"
   ]
  },
  {
   "cell_type": "code",
   "execution_count": 53,
   "id": "d065867c",
   "metadata": {
    "scrolled": true
   },
   "outputs": [
    {
     "name": "stdout",
     "output_type": "stream",
     "text": [
      "  (0, 15137)\t0.09484202358514413\n",
      "  (0, 91276)\t0.15212841205761687\n",
      "  (0, 26039)\t0.13768531461698422\n",
      "  (0, 36545)\t0.28487142404506105\n",
      "  (0, 6618)\t0.1557073542076184\n",
      "  (0, 38117)\t0.07427290122392838\n",
      "  (0, 74538)\t0.1560286212065245\n",
      "  (0, 75628)\t0.16253700457185383\n",
      "  (0, 35360)\t0.13968055115308273\n",
      "  (0, 37770)\t0.3109321039056649\n",
      "  (0, 36435)\t0.23863686141358392\n",
      "  (0, 84890)\t0.09674398139980152\n",
      "  (0, 87787)\t0.09575908021093563\n",
      "  (0, 32587)\t0.13280778770362742\n",
      "  (0, 60630)\t0.15871799710746587\n",
      "  (0, 22257)\t0.1483516257344493\n",
      "  (0, 81211)\t0.15143598501118213\n",
      "  (0, 48613)\t0.14375341684246398\n",
      "  (0, 21250)\t0.2603541828219083\n",
      "  (0, 64670)\t0.1759142954740473\n",
      "  (0, 66604)\t0.12821203646702567\n",
      "  (0, 88556)\t0.18367881485261855\n",
      "  (0, 38859)\t0.19811341291503856\n",
      "  (0, 49650)\t0.08317018164357705\n",
      "  (0, 78644)\t0.3850796180146532\n",
      "  :\t:\n",
      "  (196775, 26742)\t0.17672010962969698\n",
      "  (196775, 34229)\t0.14057263124072727\n",
      "  (196775, 76977)\t0.15929809293618802\n",
      "  (196775, 87873)\t0.18615636228726076\n",
      "  (196775, 5142)\t0.1747359195925809\n",
      "  (196775, 51842)\t0.16224704993549793\n",
      "  (196775, 87288)\t0.0977286644128377\n",
      "  (196775, 67266)\t0.13585143757313786\n",
      "  (196775, 67305)\t0.09343951544291637\n",
      "  (196775, 38117)\t0.07705841840727302\n",
      "  (196775, 66604)\t0.1330204770261707\n",
      "  (196776, 55119)\t0.44820869601257746\n",
      "  (196776, 26491)\t0.32785338266446973\n",
      "  (196776, 51152)\t0.3210430218110113\n",
      "  (196776, 54057)\t0.2037455889820321\n",
      "  (196776, 56896)\t0.26115727363237434\n",
      "  (196776, 18753)\t0.24481382414141822\n",
      "  (196776, 5808)\t0.2118127373912128\n",
      "  (196776, 58598)\t0.17644165617795496\n",
      "  (196776, 41906)\t0.41344115176789753\n",
      "  (196776, 13625)\t0.21344682792511457\n",
      "  (196776, 32453)\t0.16915327637918795\n",
      "  (196776, 17196)\t0.2139319900374855\n",
      "  (196776, 6789)\t0.136366807212746\n",
      "  (196776, 83106)\t0.1828612749766888\n"
     ]
    }
   ],
   "source": [
    "print(tfidf_matrix)"
   ]
  },
  {
   "cell_type": "code",
   "execution_count": 54,
   "id": "352a9bda",
   "metadata": {},
   "outputs": [
    {
     "data": {
      "text/plain": [
       "(196777, 92655)"
      ]
     },
     "execution_count": 54,
     "metadata": {},
     "output_type": "execute_result"
    }
   ],
   "source": [
    "tfidf_matrix.shape"
   ]
  },
  {
   "cell_type": "code",
   "execution_count": 55,
   "id": "8c98ad03",
   "metadata": {},
   "outputs": [],
   "source": [
    "tfidf_np_matrix = tfidf_matrix.toarray()\n",
    "tfidf_vector = tfidf_np_matrix[0]\n",
    "tfidf_non_zero_indices = np.flatnonzero(tfidf_vector)"
   ]
  },
  {
   "cell_type": "code",
   "execution_count": 56,
   "id": "48ca6f98",
   "metadata": {},
   "outputs": [
    {
     "data": {
      "text/plain": [
       "array([ 6618,  9570, 15137, 21250, 22257, 26039, 32587, 35360, 36435,\n",
       "       36545, 37770, 38117, 38859, 46514, 48613, 49650, 60630, 64670,\n",
       "       66604, 74538, 75628, 78644, 81211, 81236, 83106, 84890, 87787,\n",
       "       88556, 91276])"
      ]
     },
     "execution_count": 56,
     "metadata": {},
     "output_type": "execute_result"
    }
   ],
   "source": [
    "tfidf_non_zero_indices"
   ]
  },
  {
   "cell_type": "code",
   "execution_count": 57,
   "id": "a11a1409",
   "metadata": {},
   "outputs": [],
   "source": [
    "words = tfidf_vectorizer.get_feature_names()"
   ]
  },
  {
   "cell_type": "code",
   "execution_count": 58,
   "id": "b6973ace",
   "metadata": {},
   "outputs": [],
   "source": [
    "unique_words = [words[i] for i in tfidf_non_zero_indices]"
   ]
  },
  {
   "cell_type": "code",
   "execution_count": 59,
   "id": "24c53ddf",
   "metadata": {},
   "outputs": [
    {
     "data": {
      "text/plain": [
       "['alternative',\n",
       " 'awful',\n",
       " 'buy',\n",
       " 'consistancy',\n",
       " 'couldn',\n",
       " 'diet',\n",
       " 'feel',\n",
       " 'fruit',\n",
       " 'gerber',\n",
       " 'gfcf',\n",
       " 'graduates',\n",
       " 'great',\n",
       " 'gummy',\n",
       " 'kids',\n",
       " 'liked',\n",
       " 'love',\n",
       " 'past',\n",
       " 'pricey',\n",
       " 'quite',\n",
       " 'similar',\n",
       " 'snacks',\n",
       " 'strange',\n",
       " 'taste',\n",
       " 'tasted',\n",
       " 'thought',\n",
       " 'tried',\n",
       " 've',\n",
       " 'vitamins',\n",
       " 'wouldn']"
      ]
     },
     "execution_count": 59,
     "metadata": {},
     "output_type": "execute_result"
    }
   ],
   "source": [
    "unique_words"
   ]
  },
  {
   "cell_type": "code",
   "execution_count": 60,
   "id": "0c00153c",
   "metadata": {},
   "outputs": [],
   "source": [
    "data = {'Word': unique_words,\n",
    "        'TFIDF': tfidf_vector[tfidf_non_zero_indices]}"
   ]
  },
  {
   "cell_type": "code",
   "execution_count": 61,
   "id": "88227d0d",
   "metadata": {},
   "outputs": [
    {
     "data": {
      "text/plain": [
       "{'Word': ['alternative',\n",
       "  'awful',\n",
       "  'buy',\n",
       "  'consistancy',\n",
       "  'couldn',\n",
       "  'diet',\n",
       "  'feel',\n",
       "  'fruit',\n",
       "  'gerber',\n",
       "  'gfcf',\n",
       "  'graduates',\n",
       "  'great',\n",
       "  'gummy',\n",
       "  'kids',\n",
       "  'liked',\n",
       "  'love',\n",
       "  'past',\n",
       "  'pricey',\n",
       "  'quite',\n",
       "  'similar',\n",
       "  'snacks',\n",
       "  'strange',\n",
       "  'taste',\n",
       "  'tasted',\n",
       "  'thought',\n",
       "  'tried',\n",
       "  've',\n",
       "  'vitamins',\n",
       "  'wouldn'],\n",
       " 'TFIDF': array([0.15570735, 0.1778136 , 0.09484202, 0.26035418, 0.14835163,\n",
       "        0.13768531, 0.13280779, 0.13968055, 0.23863686, 0.28487142,\n",
       "        0.3109321 , 0.0742729 , 0.19811341, 0.28262599, 0.14375342,\n",
       "        0.08317018, 0.158718  , 0.1759143 , 0.12821204, 0.15602862,\n",
       "        0.162537  , 0.38507962, 0.15143599, 0.12942648, 0.12458604,\n",
       "        0.09674398, 0.09575908, 0.18367881, 0.15212841])}"
      ]
     },
     "execution_count": 61,
     "metadata": {},
     "output_type": "execute_result"
    }
   ],
   "source": [
    "data"
   ]
  },
  {
   "cell_type": "code",
   "execution_count": 62,
   "id": "933af46e",
   "metadata": {},
   "outputs": [],
   "source": [
    "df_data = pd.DataFrame(data)"
   ]
  },
  {
   "cell_type": "code",
   "execution_count": 63,
   "id": "59f9c3e3",
   "metadata": {},
   "outputs": [
    {
     "data": {
      "text/html": [
       "<div>\n",
       "<style scoped>\n",
       "    .dataframe tbody tr th:only-of-type {\n",
       "        vertical-align: middle;\n",
       "    }\n",
       "\n",
       "    .dataframe tbody tr th {\n",
       "        vertical-align: top;\n",
       "    }\n",
       "\n",
       "    .dataframe thead th {\n",
       "        text-align: right;\n",
       "    }\n",
       "</style>\n",
       "<table border=\"1\" class=\"dataframe\">\n",
       "  <thead>\n",
       "    <tr style=\"text-align: right;\">\n",
       "      <th></th>\n",
       "      <th>Word</th>\n",
       "      <th>TFIDF</th>\n",
       "    </tr>\n",
       "  </thead>\n",
       "  <tbody>\n",
       "    <tr>\n",
       "      <th>0</th>\n",
       "      <td>alternative</td>\n",
       "      <td>0.155707</td>\n",
       "    </tr>\n",
       "    <tr>\n",
       "      <th>1</th>\n",
       "      <td>awful</td>\n",
       "      <td>0.177814</td>\n",
       "    </tr>\n",
       "    <tr>\n",
       "      <th>2</th>\n",
       "      <td>buy</td>\n",
       "      <td>0.094842</td>\n",
       "    </tr>\n",
       "    <tr>\n",
       "      <th>3</th>\n",
       "      <td>consistancy</td>\n",
       "      <td>0.260354</td>\n",
       "    </tr>\n",
       "    <tr>\n",
       "      <th>4</th>\n",
       "      <td>couldn</td>\n",
       "      <td>0.148352</td>\n",
       "    </tr>\n",
       "  </tbody>\n",
       "</table>\n",
       "</div>"
      ],
      "text/plain": [
       "          Word     TFIDF\n",
       "0  alternative  0.155707\n",
       "1        awful  0.177814\n",
       "2          buy  0.094842\n",
       "3  consistancy  0.260354\n",
       "4       couldn  0.148352"
      ]
     },
     "execution_count": 63,
     "metadata": {},
     "output_type": "execute_result"
    }
   ],
   "source": [
    "df_data.head()"
   ]
  },
  {
   "cell_type": "code",
   "execution_count": 64,
   "id": "2fba90a1",
   "metadata": {},
   "outputs": [
    {
     "name": "stdout",
     "output_type": "stream",
     "text": [
      "After stop-word deletion, 29 unique words remain.\n",
      "The 10 most frequent words are:\n",
      "\n",
      "           Word     TFIDF\n",
      "21      strange  0.385080\n",
      "10    graduates  0.310932\n",
      "9          gfcf  0.284871\n",
      "13         kids  0.282626\n",
      "3   consistancy  0.260354\n",
      "8        gerber  0.238637\n",
      "12        gummy  0.198113\n",
      "27     vitamins  0.183679\n",
      "1         awful  0.177814\n",
      "17       pricey  0.175914\n"
     ]
    }
   ],
   "source": [
    "print(\"After stop-word deletion, {} unique words remain.\".format(df_data.shape[0]))\n",
    "print(\"The 10 most frequent words are:\\n\")\n",
    "print(df_data.sort_values(by='TFIDF', ascending=False)[:10])"
   ]
  },
  {
   "cell_type": "markdown",
   "id": "3d67d471",
   "metadata": {},
   "source": [
    "### Dimensionality reduction"
   ]
  },
  {
   "cell_type": "markdown",
   "id": "32491317",
   "metadata": {},
   "source": [
    "#### Dimensionally reducing `tfidf_matrix` using SVD"
   ]
  },
  {
   "cell_type": "code",
   "execution_count": 65,
   "id": "df42dc59",
   "metadata": {},
   "outputs": [],
   "source": [
    "shrunk_matrix = TruncatedSVD(n_components=100).fit_transform(tfidf_matrix)"
   ]
  },
  {
   "cell_type": "code",
   "execution_count": 66,
   "id": "36122759",
   "metadata": {},
   "outputs": [
    {
     "name": "stdout",
     "output_type": "stream",
     "text": [
      "We've dimensionally-reduced a 92655-column <class 'scipy.sparse.csr.csr_matrix'> matrix.\n",
      "Our output is a 100-column <class 'numpy.ndarray'> matrix.\n"
     ]
    }
   ],
   "source": [
    "print(\"We've dimensionally-reduced a {}-column {} matrix.\".format(tfidf_matrix.shape[1], type(tfidf_matrix)))\n",
    "print(\"Our output is a {}-column {} matrix.\".format(shrunk_matrix.shape[1], type(shrunk_matrix)))"
   ]
  },
  {
   "cell_type": "code",
   "execution_count": 67,
   "id": "30b4cdca",
   "metadata": {},
   "outputs": [],
   "source": [
    "magnitude = norm(shrunk_matrix[0])"
   ]
  },
  {
   "cell_type": "code",
   "execution_count": 68,
   "id": "c23a7bf8",
   "metadata": {},
   "outputs": [
    {
     "name": "stdout",
     "output_type": "stream",
     "text": [
      "The magnitude  of the firtst row is 0.3800421785136603\n"
     ]
    }
   ],
   "source": [
    "print(\"The magnitude  of the firtst row is {}\".format(magnitude))"
   ]
  },
  {
   "cell_type": "markdown",
   "id": "c1aa82ee",
   "metadata": {},
   "source": [
    "The magnitude of the row is less than 1. Scikit-learn's SVD output has not been automatically normalized. We need to normalize the matrix before computing the similarities."
   ]
  },
  {
   "cell_type": "markdown",
   "id": "15a969d3",
   "metadata": {},
   "source": [
    "#### Normalizing the SVD output"
   ]
  },
  {
   "cell_type": "code",
   "execution_count": 69,
   "id": "356352ff",
   "metadata": {},
   "outputs": [
    {
     "name": "stdout",
     "output_type": "stream",
     "text": [
      "The magnitude of the first row is 1.0\n"
     ]
    }
   ],
   "source": [
    "shrunk_norm_matrix = normalize(shrunk_matrix)\n",
    "magnitude = norm(shrunk_norm_matrix[0])\n",
    "print(\"The magnitude of the first row is {}\".format(magnitude))"
   ]
  },
  {
   "cell_type": "markdown",
   "id": "95d9753d",
   "metadata": {},
   "source": [
    "### Calculating all-by-all cosine similarities"
   ]
  },
  {
   "cell_type": "code",
   "execution_count": 70,
   "id": "56caf8f4",
   "metadata": {},
   "outputs": [],
   "source": [
    "cosine_similarity_matrix = shrunk_norm_matrix @ shrunk_norm_matrix.T"
   ]
  },
  {
   "cell_type": "code",
   "execution_count": 71,
   "id": "2dcbcbc5",
   "metadata": {},
   "outputs": [
    {
     "data": {
      "text/plain": [
       "array([[ 1.        ,  0.01827701,  0.08565591, ...,  0.14864583,\n",
       "         0.05198015,  0.11222267],\n",
       "       [ 0.01827701,  1.        ,  0.02620564, ..., -0.02210425,\n",
       "         0.06933215,  0.06563814],\n",
       "       [ 0.08565591,  0.02620564,  1.        , ...,  0.00160911,\n",
       "         0.17593584,  0.04032716],\n",
       "       ...,\n",
       "       [ 0.14864583, -0.02210425,  0.00160911, ...,  1.        ,\n",
       "         0.04737887, -0.01934876],\n",
       "       [ 0.05198015,  0.06933215,  0.17593584, ...,  0.04737887,\n",
       "         1.        ,  0.09066666],\n",
       "       [ 0.11222267,  0.06563814,  0.04032716, ..., -0.01934876,\n",
       "         0.09066666,  1.        ]])"
      ]
     },
     "execution_count": 71,
     "metadata": {},
     "output_type": "execute_result"
    }
   ],
   "source": [
    "cosine_similarity_matrix "
   ]
  },
  {
   "cell_type": "markdown",
   "id": "980d35d0",
   "metadata": {},
   "source": [
    "We have our similarity matrix. Let's choose a random pair of very similar texts."
   ]
  },
  {
   "cell_type": "code",
   "execution_count": 72,
   "id": "b99f6769",
   "metadata": {},
   "outputs": [
    {
     "name": "stdout",
     "output_type": "stream",
     "text": [
      "The reviews at indices 38848 and 37587 share a cosine similarity of 0.6580209346583561\n"
     ]
    }
   ],
   "source": [
    "index1 = np.random.randint(df_clean.shape[0])\n",
    "index2 = np.argsort(cosine_similarity_matrix[index1])[-2]\n",
    "similarity = cosine_similarity_matrix[index1][index2]\n",
    "print(\"The reviews at indices {} and {} share a cosine similarity of {}\".format(index1,\n",
    "                                                                                index2, \n",
    "                                                                                similarity))"
   ]
  },
  {
   "cell_type": "markdown",
   "id": "3702c7ed",
   "metadata": {},
   "source": [
    "**Let's print similar posts:**"
   ]
  },
  {
   "cell_type": "code",
   "execution_count": 73,
   "id": "c261e1dd",
   "metadata": {},
   "outputs": [
    {
     "name": "stdout",
     "output_type": "stream",
     "text": [
      "Best Energy bar ever...healthy, tasty, & less than 4 ingredients.  What could be better than that.  Great taste too.\n"
     ]
    }
   ],
   "source": [
    "print(df_clean['Text'].iloc[index1])"
   ]
  },
  {
   "cell_type": "code",
   "execution_count": 74,
   "id": "06a4c88a",
   "metadata": {},
   "outputs": [
    {
     "name": "stdout",
     "output_type": "stream",
     "text": [
      "They taste great and are healthy. We keep our home stocked with Nana's Cookie Bars.\n"
     ]
    }
   ],
   "source": [
    "print(df_clean['Text'].iloc[index2])"
   ]
  },
  {
   "cell_type": "code",
   "execution_count": 137,
   "id": "481a76c0",
   "metadata": {},
   "outputs": [
    {
     "name": "stdout",
     "output_type": "stream",
     "text": [
      "The reviews at indices 16393 and 25148 share a cosine similarity of 0.2843184519814684\n"
     ]
    }
   ],
   "source": [
    "index3 = np.random.randint(df_clean.shape[0])\n",
    "index4 = np.argsort(cosine_similarity_matrix[index3])[-2]\n",
    "similarity = cosine_similarity_matrix[index1][index4]\n",
    "print(\"The reviews at indices {} and {} share a cosine similarity of {}\".format(index3,\n",
    "                                                                                index4, \n",
    "                                                                                similarity))"
   ]
  },
  {
   "cell_type": "code",
   "execution_count": 138,
   "id": "51401641",
   "metadata": {},
   "outputs": [
    {
     "name": "stdout",
     "output_type": "stream",
     "text": [
      "I don't eat it so I can write it taste good, but I have thre Miniature Schnauzers who love it\n"
     ]
    }
   ],
   "source": [
    "print(df_clean['Text'].iloc[index3])"
   ]
  },
  {
   "cell_type": "code",
   "execution_count": 139,
   "id": "6926cccd",
   "metadata": {},
   "outputs": [
    {
     "name": "stdout",
     "output_type": "stream",
     "text": [
      "Of course they don't taste quite as good as \"regular\" brownies but hello?  That's because they're healthy!  And that being said, they are FANTASTIC!  Why eat crap when there are such good alternatives!?\n"
     ]
    }
   ],
   "source": [
    "print(df_clean['Text'].iloc[index4])"
   ]
  },
  {
   "cell_type": "markdown",
   "id": "f7e600a2",
   "metadata": {},
   "source": [
    "### Clustering reviews by similarity"
   ]
  },
  {
   "cell_type": "markdown",
   "id": "2467a382",
   "metadata": {},
   "source": [
    "I am using `MiniBatchKMeans` to identify the optimal number of clusters. `MiniBatchKMeans` offers a mini-batch implementation of k-means clustering, which can be efficient for working with large data."
   ]
  },
  {
   "cell_type": "markdown",
   "id": "bfb8021c",
   "metadata": {},
   "source": [
    "#### Defining the number of clusters"
   ]
  },
  {
   "cell_type": "code",
   "execution_count": 72,
   "id": "8635da59",
   "metadata": {},
   "outputs": [
    {
     "name": "stdout",
     "output_type": "stream",
     "text": [
      "CPU times: user 13min 1s, sys: 3.4 s, total: 13min 4s\n",
      "Wall time: 3min 18s\n"
     ]
    }
   ],
   "source": [
    "%%time\n",
    "np.random.seed(0)\n",
    "\n",
    "k_values = range(1, 61)\n",
    "inertia_values = [MiniBatchKMeans(k).fit(shrunk_norm_matrix).inertia_ \n",
    "                  for k in k_values]"
   ]
  },
  {
   "cell_type": "code",
   "execution_count": 100,
   "id": "bb42372d",
   "metadata": {},
   "outputs": [
    {
     "data": {
      "image/png": "[encoded data removed]",
      "text/plain": [
       "<Figure size 432x288 with 1 Axes>"
      ]
     },
     "metadata": {
      "needs_background": "light"
     },
     "output_type": "display_data"
    }
   ],
   "source": [
    "plt.plot(k_values, inertia_values)\n",
    "plt.xlabel('K')\n",
    "plt.ylabel('Inertia')\n",
    "plt.axvline(24, c='r')\n",
    "plt.grid(True)\n",
    "plt.show()"
   ]
  },
  {
   "cell_type": "markdown",
   "id": "2982a184",
   "metadata": {},
   "source": [
    "#### Clustering reviews"
   ]
  },
  {
   "cell_type": "code",
   "execution_count": 112,
   "id": "0d71e6e8",
   "metadata": {},
   "outputs": [],
   "source": [
    "np.random.seed(23)\n",
    "cluster_model = KMeans(n_clusters=25)\n",
    "clusters = cluster_model.fit_predict(shrunk_norm_matrix)\n",
    "df_cl = pd.DataFrame({'Index': range(clusters.size), 'Cluster': clusters})"
   ]
  },
  {
   "cell_type": "code",
   "execution_count": 113,
   "id": "292bfe23",
   "metadata": {},
   "outputs": [
    {
     "data": {
      "text/html": [
       "<div>\n",
       "<style scoped>\n",
       "    .dataframe tbody tr th:only-of-type {\n",
       "        vertical-align: middle;\n",
       "    }\n",
       "\n",
       "    .dataframe tbody tr th {\n",
       "        vertical-align: top;\n",
       "    }\n",
       "\n",
       "    .dataframe thead th {\n",
       "        text-align: right;\n",
       "    }\n",
       "</style>\n",
       "<table border=\"1\" class=\"dataframe\">\n",
       "  <thead>\n",
       "    <tr style=\"text-align: right;\">\n",
       "      <th></th>\n",
       "      <th>Index</th>\n",
       "      <th>Cluster</th>\n",
       "    </tr>\n",
       "  </thead>\n",
       "  <tbody>\n",
       "    <tr>\n",
       "      <th>0</th>\n",
       "      <td>0</td>\n",
       "      <td>12</td>\n",
       "    </tr>\n",
       "    <tr>\n",
       "      <th>1</th>\n",
       "      <td>1</td>\n",
       "      <td>9</td>\n",
       "    </tr>\n",
       "    <tr>\n",
       "      <th>2</th>\n",
       "      <td>2</td>\n",
       "      <td>19</td>\n",
       "    </tr>\n",
       "    <tr>\n",
       "      <th>3</th>\n",
       "      <td>3</td>\n",
       "      <td>1</td>\n",
       "    </tr>\n",
       "    <tr>\n",
       "      <th>4</th>\n",
       "      <td>4</td>\n",
       "      <td>21</td>\n",
       "    </tr>\n",
       "  </tbody>\n",
       "</table>\n",
       "</div>"
      ],
      "text/plain": [
       "   Index  Cluster\n",
       "0      0       12\n",
       "1      1        9\n",
       "2      2       19\n",
       "3      3        1\n",
       "4      4       21"
      ]
     },
     "execution_count": 113,
     "metadata": {},
     "output_type": "execute_result"
    }
   ],
   "source": [
    "df_cl.head()"
   ]
  },
  {
   "cell_type": "code",
   "execution_count": 114,
   "id": "a6013532",
   "metadata": {},
   "outputs": [
    {
     "name": "stdout",
     "output_type": "stream",
     "text": [
      "<class 'pandas.core.frame.DataFrame'>\n",
      "RangeIndex: 196777 entries, 0 to 196776\n",
      "Data columns (total 2 columns):\n",
      " #   Column   Non-Null Count   Dtype\n",
      "---  ------   --------------   -----\n",
      " 0   Index    196777 non-null  int64\n",
      " 1   Cluster  196777 non-null  int32\n",
      "dtypes: int32(1), int64(1)\n",
      "memory usage: 2.3 MB\n"
     ]
    }
   ],
   "source": [
    "df_cl.info()"
   ]
  },
  {
   "cell_type": "code",
   "execution_count": 115,
   "id": "218ba104",
   "metadata": {},
   "outputs": [
    {
     "data": {
      "image/png": "[encoded data removed]",
      "text/plain": [
       "<Figure size 432x288 with 1 Axes>"
      ]
     },
     "metadata": {
      "needs_background": "light"
     },
     "output_type": "display_data"
    }
   ],
   "source": [
    "df_cl['Cluster'].value_counts(normalize=True).plot.bar(color='dodgerblue');"
   ]
  },
  {
   "cell_type": "markdown",
   "id": "f5a96b97",
   "metadata": {},
   "source": [
    "#### Checking reviews from a single cluster"
   ]
  },
  {
   "cell_type": "code",
   "execution_count": 116,
   "id": "d628df48",
   "metadata": {},
   "outputs": [],
   "source": [
    "df_cl5 = df_cl[df_cl['Cluster'] == 5]"
   ]
  },
  {
   "cell_type": "code",
   "execution_count": 117,
   "id": "b2ea7e7c",
   "metadata": {},
   "outputs": [
    {
     "data": {
      "text/html": [
       "<div>\n",
       "<style scoped>\n",
       "    .dataframe tbody tr th:only-of-type {\n",
       "        vertical-align: middle;\n",
       "    }\n",
       "\n",
       "    .dataframe tbody tr th {\n",
       "        vertical-align: top;\n",
       "    }\n",
       "\n",
       "    .dataframe thead th {\n",
       "        text-align: right;\n",
       "    }\n",
       "</style>\n",
       "<table border=\"1\" class=\"dataframe\">\n",
       "  <thead>\n",
       "    <tr style=\"text-align: right;\">\n",
       "      <th></th>\n",
       "      <th>Index</th>\n",
       "      <th>Cluster</th>\n",
       "    </tr>\n",
       "  </thead>\n",
       "  <tbody>\n",
       "    <tr>\n",
       "      <th>146011</th>\n",
       "      <td>146011</td>\n",
       "      <td>5</td>\n",
       "    </tr>\n",
       "    <tr>\n",
       "      <th>32522</th>\n",
       "      <td>32522</td>\n",
       "      <td>5</td>\n",
       "    </tr>\n",
       "    <tr>\n",
       "      <th>23703</th>\n",
       "      <td>23703</td>\n",
       "      <td>5</td>\n",
       "    </tr>\n",
       "    <tr>\n",
       "      <th>97928</th>\n",
       "      <td>97928</td>\n",
       "      <td>5</td>\n",
       "    </tr>\n",
       "    <tr>\n",
       "      <th>173016</th>\n",
       "      <td>173016</td>\n",
       "      <td>5</td>\n",
       "    </tr>\n",
       "  </tbody>\n",
       "</table>\n",
       "</div>"
      ],
      "text/plain": [
       "         Index  Cluster\n",
       "146011  146011        5\n",
       "32522    32522        5\n",
       "23703    23703        5\n",
       "97928    97928        5\n",
       "173016  173016        5"
      ]
     },
     "execution_count": 117,
     "metadata": {},
     "output_type": "execute_result"
    }
   ],
   "source": [
    "df_cl5.sample(5)"
   ]
  },
  {
   "cell_type": "markdown",
   "id": "a1f1b3d2",
   "metadata": {},
   "source": [
    "Let's print a few posts from cluster 5."
   ]
  },
  {
   "cell_type": "code",
   "execution_count": 118,
   "id": "a0cbfb2f",
   "metadata": {},
   "outputs": [
    {
     "data": {
      "text/plain": [
       "\"Best Decaf available in T-disc so far.  I'm hoping Starbucks will come out with a version soon... but meanwhile this one is not too bad at all.\""
      ]
     },
     "execution_count": 118,
     "metadata": {},
     "output_type": "execute_result"
    }
   ],
   "source": [
    "df_clean['Text'].iloc[146011]"
   ]
  },
  {
   "cell_type": "code",
   "execution_count": 119,
   "id": "1c9d0cc5",
   "metadata": {},
   "outputs": [
    {
     "data": {
      "text/plain": [
       "\"this is the best cocoa i've had. way better than anything you can find at the supermarket, and even better than the other highly rated cocoas i tried from amazon.. also dissolves in water really easily and makes amazing hot chocolate (you can find recipes online - once you start making it from scratch you'll never buy the pre-mixed stuff again).\""
      ]
     },
     "execution_count": 119,
     "metadata": {},
     "output_type": "execute_result"
    }
   ],
   "source": [
    "df_clean['Text'].iloc[32522]"
   ]
  },
  {
   "cell_type": "code",
   "execution_count": 120,
   "id": "0a733ddb",
   "metadata": {},
   "outputs": [
    {
     "data": {
      "text/plain": [
       "\"DON'T BUY A JAR. BUY A CASE SO YOU WILL NEVER BE OUT. SIMPLY THE BEST I HAVE EVER TRIED.\""
      ]
     },
     "execution_count": 120,
     "metadata": {},
     "output_type": "execute_result"
    }
   ],
   "source": [
    "df_clean['Text'].iloc[23703]"
   ]
  },
  {
   "cell_type": "code",
   "execution_count": 122,
   "id": "dbcb54ff",
   "metadata": {},
   "outputs": [
    {
     "data": {
      "text/plain": [
       "\"Tim Horton's is among the best decaffeinated brands I've ever tasted.  I'm very happy that it's available here on Amazon and is prime eligible at a very good price.\""
      ]
     },
     "execution_count": 122,
     "metadata": {},
     "output_type": "execute_result"
    }
   ],
   "source": [
    "df_clean['Text'].iloc[173016]"
   ]
  },
  {
   "cell_type": "code",
   "execution_count": null,
   "id": "e19e236d",
   "metadata": {},
   "outputs": [],
   "source": []
  },
  {
   "cell_type": "code",
   "execution_count": null,
   "id": "bc98a423",
   "metadata": {},
   "outputs": [],
   "source": []
  },
  {
   "cell_type": "code",
   "execution_count": null,
   "id": "002f323a",
   "metadata": {},
   "outputs": [],
   "source": []
  },
  {
   "cell_type": "code",
   "execution_count": null,
   "id": "0814555e",
   "metadata": {},
   "outputs": [],
   "source": []
  },
  {
   "cell_type": "code",
   "execution_count": null,
   "id": "0a63f0a8",
   "metadata": {},
   "outputs": [],
   "source": []
  },
  {
   "cell_type": "code",
   "execution_count": null,
   "id": "522631b5",
   "metadata": {},
   "outputs": [],
   "source": []
  },
  {
   "cell_type": "code",
   "execution_count": null,
   "id": "10af0837",
   "metadata": {},
   "outputs": [],
   "source": []
  },
  {
   "cell_type": "code",
   "execution_count": null,
   "id": "52280f26",
   "metadata": {},
   "outputs": [],
   "source": []
  },
  {
   "cell_type": "code",
   "execution_count": null,
   "id": "24cf9e8a",
   "metadata": {},
   "outputs": [],
   "source": []
  },
  {
   "cell_type": "code",
   "execution_count": null,
   "id": "cba2911d",
   "metadata": {},
   "outputs": [],
   "source": []
  }
 ],
 "metadata": {
  "kernelspec": {
   "display_name": "Python 3 (ipykernel)",
   "language": "python",
   "name": "python3"
  },
  "language_info": {
   "codemirror_mode": {
    "name": "ipython",
    "version": 3
   },
   "file_extension": ".py",
   "mimetype": "text/x-python",
   "name": "python",
   "nbconvert_exporter": "python",
   "pygments_lexer": "ipython3",
   "version": "3.7.9"
  }
 },
 "nbformat": 4,
 "nbformat_minor": 5
}
