{
 "cells": [
  {
   "cell_type": "markdown",
   "id": "e4862f75",
   "metadata": {},
   "source": [
    "# Analyzing Amazon review data"
   ]
  },
  {
   "cell_type": "markdown",
   "id": "450679d4",
   "metadata": {},
   "source": [
    "Amazon Fine Food reviews: https://www.kaggle.com/datasets/snap/amazon-fine-food-reviews?resource=download"
   ]
  },
  {
   "cell_type": "markdown",
   "id": "90d3ecd4",
   "metadata": {},
   "source": [
    "## Settings"
   ]
  },
  {
   "cell_type": "code",
   "execution_count": 1,
   "id": "1d605225",
   "metadata": {},
   "outputs": [],
   "source": [
    "# Import necessary packages\n",
    "import pandas as pd\n",
    "import numpy as np\n",
    "from sklearn.feature_extraction.text import TfidfVectorizer\n",
    "from sklearn.decomposition import TruncatedSVD\n",
    "from numpy.linalg import norm\n",
    "from sklearn.preprocessing import normalize"
   ]
  },
  {
   "cell_type": "code",
   "execution_count": 2,
   "id": "814dca2c",
   "metadata": {},
   "outputs": [],
   "source": [
    "# Set a random seed\n",
    "np.random.seed(23)"
   ]
  },
  {
   "cell_type": "markdown",
   "id": "2311e1a3",
   "metadata": {},
   "source": [
    "## Data wrangling"
   ]
  },
  {
   "cell_type": "code",
   "execution_count": 3,
   "id": "fb872161",
   "metadata": {},
   "outputs": [],
   "source": [
    "df = pd.read_csv(\"./data/reviews_amazon_fine_food.csv\")"
   ]
  },
  {
   "cell_type": "code",
   "execution_count": 4,
   "id": "458543b9",
   "metadata": {},
   "outputs": [
    {
     "data": {
      "text/html": [
       "<div>\n",
       "<style scoped>\n",
       "    .dataframe tbody tr th:only-of-type {\n",
       "        vertical-align: middle;\n",
       "    }\n",
       "\n",
       "    .dataframe tbody tr th {\n",
       "        vertical-align: top;\n",
       "    }\n",
       "\n",
       "    .dataframe thead th {\n",
       "        text-align: right;\n",
       "    }\n",
       "</style>\n",
       "<table border=\"1\" class=\"dataframe\">\n",
       "  <thead>\n",
       "    <tr style=\"text-align: right;\">\n",
       "      <th></th>\n",
       "      <th>Id</th>\n",
       "      <th>ProductId</th>\n",
       "      <th>UserId</th>\n",
       "      <th>ProfileName</th>\n",
       "      <th>HelpfulnessNumerator</th>\n",
       "      <th>HelpfulnessDenominator</th>\n",
       "      <th>Score</th>\n",
       "      <th>Time</th>\n",
       "      <th>Summary</th>\n",
       "      <th>Text</th>\n",
       "    </tr>\n",
       "  </thead>\n",
       "  <tbody>\n",
       "    <tr>\n",
       "      <th>0</th>\n",
       "      <td>1</td>\n",
       "      <td>B001E4KFG0</td>\n",
       "      <td>A3SGXH7AUHU8GW</td>\n",
       "      <td>delmartian</td>\n",
       "      <td>1</td>\n",
       "      <td>1</td>\n",
       "      <td>5</td>\n",
       "      <td>1303862400</td>\n",
       "      <td>Good Quality Dog Food</td>\n",
       "      <td>I have bought several of the Vitality canned d...</td>\n",
       "    </tr>\n",
       "    <tr>\n",
       "      <th>1</th>\n",
       "      <td>2</td>\n",
       "      <td>B00813GRG4</td>\n",
       "      <td>A1D87F6ZCVE5NK</td>\n",
       "      <td>dll pa</td>\n",
       "      <td>0</td>\n",
       "      <td>0</td>\n",
       "      <td>1</td>\n",
       "      <td>1346976000</td>\n",
       "      <td>Not as Advertised</td>\n",
       "      <td>Product arrived labeled as Jumbo Salted Peanut...</td>\n",
       "    </tr>\n",
       "    <tr>\n",
       "      <th>2</th>\n",
       "      <td>3</td>\n",
       "      <td>B000LQOCH0</td>\n",
       "      <td>ABXLMWJIXXAIN</td>\n",
       "      <td>Natalia Corres \"Natalia Corres\"</td>\n",
       "      <td>1</td>\n",
       "      <td>1</td>\n",
       "      <td>4</td>\n",
       "      <td>1219017600</td>\n",
       "      <td>\"Delight\" says it all</td>\n",
       "      <td>This is a confection that has been around a fe...</td>\n",
       "    </tr>\n",
       "    <tr>\n",
       "      <th>3</th>\n",
       "      <td>4</td>\n",
       "      <td>B000UA0QIQ</td>\n",
       "      <td>A395BORC6FGVXV</td>\n",
       "      <td>Karl</td>\n",
       "      <td>3</td>\n",
       "      <td>3</td>\n",
       "      <td>2</td>\n",
       "      <td>1307923200</td>\n",
       "      <td>Cough Medicine</td>\n",
       "      <td>If you are looking for the secret ingredient i...</td>\n",
       "    </tr>\n",
       "    <tr>\n",
       "      <th>4</th>\n",
       "      <td>5</td>\n",
       "      <td>B006K2ZZ7K</td>\n",
       "      <td>A1UQRSCLF8GW1T</td>\n",
       "      <td>Michael D. Bigham \"M. Wassir\"</td>\n",
       "      <td>0</td>\n",
       "      <td>0</td>\n",
       "      <td>5</td>\n",
       "      <td>1350777600</td>\n",
       "      <td>Great taffy</td>\n",
       "      <td>Great taffy at a great price.  There was a wid...</td>\n",
       "    </tr>\n",
       "  </tbody>\n",
       "</table>\n",
       "</div>"
      ],
      "text/plain": [
       "   Id   ProductId          UserId                      ProfileName  \\\n",
       "0   1  B001E4KFG0  A3SGXH7AUHU8GW                       delmartian   \n",
       "1   2  B00813GRG4  A1D87F6ZCVE5NK                           dll pa   \n",
       "2   3  B000LQOCH0   ABXLMWJIXXAIN  Natalia Corres \"Natalia Corres\"   \n",
       "3   4  B000UA0QIQ  A395BORC6FGVXV                             Karl   \n",
       "4   5  B006K2ZZ7K  A1UQRSCLF8GW1T    Michael D. Bigham \"M. Wassir\"   \n",
       "\n",
       "   HelpfulnessNumerator  HelpfulnessDenominator  Score        Time  \\\n",
       "0                     1                       1      5  1303862400   \n",
       "1                     0                       0      1  1346976000   \n",
       "2                     1                       1      4  1219017600   \n",
       "3                     3                       3      2  1307923200   \n",
       "4                     0                       0      5  1350777600   \n",
       "\n",
       "                 Summary                                               Text  \n",
       "0  Good Quality Dog Food  I have bought several of the Vitality canned d...  \n",
       "1      Not as Advertised  Product arrived labeled as Jumbo Salted Peanut...  \n",
       "2  \"Delight\" says it all  This is a confection that has been around a fe...  \n",
       "3         Cough Medicine  If you are looking for the secret ingredient i...  \n",
       "4            Great taffy  Great taffy at a great price.  There was a wid...  "
      ]
     },
     "execution_count": 4,
     "metadata": {},
     "output_type": "execute_result"
    }
   ],
   "source": [
    "df.head()"
   ]
  },
  {
   "cell_type": "code",
   "execution_count": 5,
   "id": "3fa167a4",
   "metadata": {},
   "outputs": [
    {
     "name": "stdout",
     "output_type": "stream",
     "text": [
      "<class 'pandas.core.frame.DataFrame'>\n",
      "RangeIndex: 568454 entries, 0 to 568453\n",
      "Data columns (total 10 columns):\n",
      " #   Column                  Non-Null Count   Dtype \n",
      "---  ------                  --------------   ----- \n",
      " 0   Id                      568454 non-null  int64 \n",
      " 1   ProductId               568454 non-null  object\n",
      " 2   UserId                  568454 non-null  object\n",
      " 3   ProfileName             568438 non-null  object\n",
      " 4   HelpfulnessNumerator    568454 non-null  int64 \n",
      " 5   HelpfulnessDenominator  568454 non-null  int64 \n",
      " 6   Score                   568454 non-null  int64 \n",
      " 7   Time                    568454 non-null  int64 \n",
      " 8   Summary                 568427 non-null  object\n",
      " 9   Text                    568454 non-null  object\n",
      "dtypes: int64(5), object(5)\n",
      "memory usage: 43.4+ MB\n"
     ]
    }
   ],
   "source": [
    "df.info()"
   ]
  },
  {
   "cell_type": "markdown",
   "id": "17d1156c",
   "metadata": {},
   "source": [
    "## EDA"
   ]
  },
  {
   "cell_type": "code",
   "execution_count": 6,
   "id": "04be6500",
   "metadata": {},
   "outputs": [
    {
     "data": {
      "text/plain": [
       "0     I have bought several of the Vitality canned d...\n",
       "1     Product arrived labeled as Jumbo Salted Peanut...\n",
       "2     This is a confection that has been around a fe...\n",
       "3     If you are looking for the secret ingredient i...\n",
       "4     Great taffy at a great price.  There was a wid...\n",
       "5     I got a wild hair for taffy and ordered this f...\n",
       "6     This saltwater taffy had great flavors and was...\n",
       "7     This taffy is so good.  It is very soft and ch...\n",
       "8     Right now I'm mostly just sprouting this so my...\n",
       "9     This is a very healthy dog food. Good for thei...\n",
       "10    I don't know if it's the cactus or the tequila...\n",
       "11    One of my boys needed to lose some weight and ...\n",
       "12    My cats have been happily eating Felidae Plati...\n",
       "13    good flavor! these came securely packed... the...\n",
       "14    The Strawberry Twizzlers are my guilty pleasur...\n",
       "15    My daughter loves twizzlers and this shipment ...\n",
       "16    I love eating them and they are good for watch...\n",
       "17    I am very satisfied with my Twizzler purchase....\n",
       "18    Twizzlers, Strawberry my childhood favorite ca...\n",
       "19    Candy was delivered very fast and was purchase...\n",
       "Name: Text, dtype: object"
      ]
     },
     "execution_count": 6,
     "metadata": {},
     "output_type": "execute_result"
    }
   ],
   "source": [
    "df['Text'][:20]"
   ]
  },
  {
   "cell_type": "code",
   "execution_count": 7,
   "id": "7c9c3c9e",
   "metadata": {},
   "outputs": [
    {
     "name": "stdout",
     "output_type": "stream",
     "text": [
      "Number of unique users:  256059\n"
     ]
    }
   ],
   "source": [
    "print('Number of unique users: ', df['UserId'].nunique())"
   ]
  },
  {
   "cell_type": "code",
   "execution_count": 8,
   "id": "4100bd92",
   "metadata": {},
   "outputs": [
    {
     "name": "stdout",
     "output_type": "stream",
     "text": [
      "Number of reviewed products:  74258\n"
     ]
    }
   ],
   "source": [
    "print('Number of reviewed products: ', df['ProductId'].nunique())"
   ]
  },
  {
   "cell_type": "code",
   "execution_count": 9,
   "id": "d36a4cbe",
   "metadata": {},
   "outputs": [
    {
     "name": "stdout",
     "output_type": "stream",
     "text": [
      "Number of reviews:  568454\n"
     ]
    }
   ],
   "source": [
    "print('Number of reviews: ', df.shape[0])"
   ]
  },
  {
   "cell_type": "code",
   "execution_count": 10,
   "id": "2f68c431",
   "metadata": {},
   "outputs": [
    {
     "name": "stdout",
     "output_type": "stream",
     "text": [
      "On average, there are 2.2200117941568154 reviews per user\n"
     ]
    }
   ],
   "source": [
    "print('On average, there are {} reviews per user'.format(df.shape[0]/df['UserId'].nunique()))"
   ]
  },
  {
   "cell_type": "code",
   "execution_count": 11,
   "id": "44ec27e5",
   "metadata": {},
   "outputs": [
    {
     "name": "stdout",
     "output_type": "stream",
     "text": [
      "On average, there are 7.655121333728353 reviews per product\n"
     ]
    }
   ],
   "source": [
    "print('On average, there are {} reviews per product'.format(df.shape[0]/df['ProductId'].nunique()))"
   ]
  },
  {
   "cell_type": "code",
   "execution_count": 12,
   "id": "0d474aae",
   "metadata": {},
   "outputs": [
    {
     "data": {
      "text/plain": [
       "Index(['Id', 'ProductId', 'UserId', 'ProfileName', 'HelpfulnessNumerator',\n",
       "       'HelpfulnessDenominator', 'Score', 'Time', 'Summary', 'Text'],\n",
       "      dtype='object')"
      ]
     },
     "execution_count": 12,
     "metadata": {},
     "output_type": "execute_result"
    }
   ],
   "source": [
    "df.columns"
   ]
  },
  {
   "cell_type": "code",
   "execution_count": 13,
   "id": "f51a21f0",
   "metadata": {},
   "outputs": [
    {
     "data": {
      "text/html": [
       "<div>\n",
       "<style scoped>\n",
       "    .dataframe tbody tr th:only-of-type {\n",
       "        vertical-align: middle;\n",
       "    }\n",
       "\n",
       "    .dataframe tbody tr th {\n",
       "        vertical-align: top;\n",
       "    }\n",
       "\n",
       "    .dataframe thead th {\n",
       "        text-align: right;\n",
       "    }\n",
       "</style>\n",
       "<table border=\"1\" class=\"dataframe\">\n",
       "  <thead>\n",
       "    <tr style=\"text-align: right;\">\n",
       "      <th></th>\n",
       "      <th>Score</th>\n",
       "      <th>HelpfulnessNumerator</th>\n",
       "      <th>HelpfulnessDenominator</th>\n",
       "    </tr>\n",
       "  </thead>\n",
       "  <tbody>\n",
       "    <tr>\n",
       "      <th>count</th>\n",
       "      <td>568454.000000</td>\n",
       "      <td>568454.000000</td>\n",
       "      <td>568454.00000</td>\n",
       "    </tr>\n",
       "    <tr>\n",
       "      <th>mean</th>\n",
       "      <td>4.183199</td>\n",
       "      <td>1.743817</td>\n",
       "      <td>2.22881</td>\n",
       "    </tr>\n",
       "    <tr>\n",
       "      <th>std</th>\n",
       "      <td>1.310436</td>\n",
       "      <td>7.636513</td>\n",
       "      <td>8.28974</td>\n",
       "    </tr>\n",
       "    <tr>\n",
       "      <th>min</th>\n",
       "      <td>1.000000</td>\n",
       "      <td>0.000000</td>\n",
       "      <td>0.00000</td>\n",
       "    </tr>\n",
       "    <tr>\n",
       "      <th>25%</th>\n",
       "      <td>4.000000</td>\n",
       "      <td>0.000000</td>\n",
       "      <td>0.00000</td>\n",
       "    </tr>\n",
       "    <tr>\n",
       "      <th>50%</th>\n",
       "      <td>5.000000</td>\n",
       "      <td>0.000000</td>\n",
       "      <td>1.00000</td>\n",
       "    </tr>\n",
       "    <tr>\n",
       "      <th>75%</th>\n",
       "      <td>5.000000</td>\n",
       "      <td>2.000000</td>\n",
       "      <td>2.00000</td>\n",
       "    </tr>\n",
       "    <tr>\n",
       "      <th>max</th>\n",
       "      <td>5.000000</td>\n",
       "      <td>866.000000</td>\n",
       "      <td>923.00000</td>\n",
       "    </tr>\n",
       "  </tbody>\n",
       "</table>\n",
       "</div>"
      ],
      "text/plain": [
       "               Score  HelpfulnessNumerator  HelpfulnessDenominator\n",
       "count  568454.000000         568454.000000            568454.00000\n",
       "mean        4.183199              1.743817                 2.22881\n",
       "std         1.310436              7.636513                 8.28974\n",
       "min         1.000000              0.000000                 0.00000\n",
       "25%         4.000000              0.000000                 0.00000\n",
       "50%         5.000000              0.000000                 1.00000\n",
       "75%         5.000000              2.000000                 2.00000\n",
       "max         5.000000            866.000000               923.00000"
      ]
     },
     "execution_count": 13,
     "metadata": {},
     "output_type": "execute_result"
    }
   ],
   "source": [
    "df[['Score', 'HelpfulnessNumerator', 'HelpfulnessDenominator']].describe()"
   ]
  },
  {
   "cell_type": "code",
   "execution_count": 14,
   "id": "90c14f38",
   "metadata": {},
   "outputs": [
    {
     "data": {
      "image/png": "[encoded data removed]",
      "text/plain": [
       "<Figure size 432x288 with 1 Axes>"
      ]
     },
     "metadata": {
      "needs_background": "light"
     },
     "output_type": "display_data"
    }
   ],
   "source": [
    "df['Score'].value_counts(normalize=True).plot.bar(color='dodgerblue');"
   ]
  },
  {
   "cell_type": "code",
   "execution_count": 15,
   "id": "f7a43e12",
   "metadata": {},
   "outputs": [
    {
     "data": {
      "text/plain": [
       "Delicious!       2462\n",
       "Delicious        2316\n",
       "Yummy!           1594\n",
       "Yummy            1268\n",
       "Great product    1091\n",
       "Yum!             1081\n",
       "Excellent         985\n",
       "Great Product     910\n",
       "Love it!          910\n",
       "Great             749\n",
       "Great!            748\n",
       "Tasty             645\n",
       "Yum               618\n",
       "Disappointed      587\n",
       "Excellent!        573\n",
       "Great Coffee      558\n",
       "Awesome!          550\n",
       "Awesome           546\n",
       "Good stuff        515\n",
       "yummy             512\n",
       "Name: Summary, dtype: int64"
      ]
     },
     "execution_count": 15,
     "metadata": {},
     "output_type": "execute_result"
    }
   ],
   "source": [
    "df['Summary'].value_counts()[:20]"
   ]
  },
  {
   "cell_type": "code",
   "execution_count": 16,
   "id": "2ff8bd2f",
   "metadata": {},
   "outputs": [
    {
     "data": {
      "text/plain": [
       "\"I don't know if it's the cactus or the tequila or just the unique combination of ingredients, but the flavour of this hot sauce makes it one of a kind!  We picked up a bottle once on a trip we were on and brought it back home with us and were totally blown away!  When we realized that we simply couldn't find it anywhere in our city we were bummed.<br /><br />Now, because of the magic of the internet, we have a case of the sauce and are ecstatic because of it.<br /><br />If you love hot sauce..I mean really love hot sauce, but don't want a sauce that tastelessly burns your throat, grab a bottle of Tequila Picante Gourmet de Inclan.  Just realize that once you taste it, you will never want to use any other sauce.<br /><br />Thank you for the personal, incredible service!\""
      ]
     },
     "execution_count": 16,
     "metadata": {},
     "output_type": "execute_result"
    }
   ],
   "source": [
    "df['Text'][10]"
   ]
  },
  {
   "cell_type": "code",
   "execution_count": 17,
   "id": "dbfec172",
   "metadata": {},
   "outputs": [
    {
     "data": {
      "text/plain": [
       "\"Even with small containers, they don't fill them up.  These little tins are less than half filled and at the price charged it seems a rip-off. Is there some exotic ingredient as costly as gold contained in those tiny squares?  Or how about the cereal ploy, they were filled at the factory but settled in transport.<br />Can manufacturers be honest in their dealings?\""
      ]
     },
     "execution_count": 17,
     "metadata": {},
     "output_type": "execute_result"
    }
   ],
   "source": [
    "df['Text'][200]"
   ]
  },
  {
   "cell_type": "code",
   "execution_count": 18,
   "id": "eae461a1",
   "metadata": {},
   "outputs": [
    {
     "data": {
      "text/plain": [
       "\"This stuff is really good added to oatmeal or greek yogurt.  As for a PB sandwich?  Not as sure.  I've mixed it with jelly, and it's pretty good, but I missed the texture contrast that you get with real PB.  I mitigate this by adding a very thin layer (I have a problem with putting WAY too much PB on) of real PB to my bread and then supplementing with the powdered stuff.  It works better that way, I think, and I don't get all the calories from using all regular PB.  I probably wouldn't buy this from amazon again because of the price, but I'm glad I tried it, and if it's on sale at whole foods or something I'd buy it.<br /><br />Oh, be careful when you're opening the jar for the first time...no sudden movements or you'll be covered in PB powder, and at this price, every grain is precious!\""
      ]
     },
     "execution_count": 18,
     "metadata": {},
     "output_type": "execute_result"
    }
   ],
   "source": [
    "df['Text'][18000]"
   ]
  },
  {
   "cell_type": "code",
   "execution_count": 19,
   "id": "24d0b5b6",
   "metadata": {},
   "outputs": [
    {
     "data": {
      "text/plain": [
       "\"Warning -- this product contains nutrisweet, which I and may others are allergic to -- they don't say it on the amazon website so be careful!!!\""
      ]
     },
     "execution_count": 19,
     "metadata": {},
     "output_type": "execute_result"
    }
   ],
   "source": [
    "df['Text'][345907]"
   ]
  },
  {
   "cell_type": "code",
   "execution_count": 20,
   "id": "8fec28c0",
   "metadata": {},
   "outputs": [
    {
     "data": {
      "text/plain": [
       "\"I have lived out of the US for over 7 yrs now, and I so miss my Twizzlers!!  When I go back to visit or someone visits me, I always stock up.  All I can say is YUM!<br />Sell these in Mexico and you will have a faithful buyer, more often than I'm able to buy them right now.\""
      ]
     },
     "execution_count": 20,
     "metadata": {},
     "output_type": "execute_result"
    }
   ],
   "source": [
    "df['Text'][24]"
   ]
  },
  {
   "cell_type": "code",
   "execution_count": 21,
   "id": "2a439ad6",
   "metadata": {},
   "outputs": [
    {
     "data": {
      "text/plain": [
       "\"We're staying at Stanford's Children's Hospital with my son, and I'm sure I don't have to elaborate how 'pleasant' hospital cafeteria food can be, even at a 'great' cafeteria (as hospital cafeteria's go, Stanford's is actually very good. But it is still cafeteria food). On weekends the Children's side cafeteria closes down so you have to go over to the main hospital's cafeteria for dinner. Grabbed a turkey sandwich and was looking for some chips or something crunchy, and I saw these. I'm a big coconut fan so I figured I couldn't go wrong, and it's healthier than potato chips so I'm game. I made the mistake of trying a bite of them before I had my sandwich, I didn't want to put the bag down! Holy smokes, seriously the best 'chip substitute' I've ever had, and if they weren't so expensive I'd switch over from potato chips completely!! Perfect combination of salty/sweet, loads of coconut flavor (I've had some where it's really subtle and mild, this definitely is not), great size strips (like someone said, looks like they put it through a strip paper shredder just a bit wider), perfect crunchiness. Anyways, definitely a rare treat because of the expense, but so worth every penny! I may have to grab another bag for the road home though before we get discharged this afternoon. ; )\""
      ]
     },
     "execution_count": 21,
     "metadata": {},
     "output_type": "execute_result"
    }
   ],
   "source": [
    "df['Text'][200783]"
   ]
  },
  {
   "cell_type": "code",
   "execution_count": 22,
   "id": "79a91e84",
   "metadata": {},
   "outputs": [
    {
     "data": {
      "text/plain": [
       "(142924, 10)"
      ]
     },
     "execution_count": 22,
     "metadata": {},
     "output_type": "execute_result"
    }
   ],
   "source": [
    "df[df['Text'].str.contains('<br />')].shape"
   ]
  },
  {
   "cell_type": "markdown",
   "id": "28a821f8",
   "metadata": {},
   "source": [
    "142,924 rows contain `<br />` characters."
   ]
  },
  {
   "cell_type": "markdown",
   "id": "1b4575ed",
   "metadata": {},
   "source": [
    "Let us check other characters related to HTML syntax"
   ]
  },
  {
   "cell_type": "code",
   "execution_count": 23,
   "id": "ec7f068c",
   "metadata": {},
   "outputs": [
    {
     "data": {
      "text/plain": [
       "10        I don't know if it's the cactus or the tequila...\n",
       "18        Twizzlers, Strawberry my childhood favorite ca...\n",
       "21        I bought these for my husband who is currently...\n",
       "24        I have lived out of the US for over 7 yrs now,...\n",
       "25        Product received is as advertised.<br /><br />...\n",
       "                                ...                        \n",
       "568430    This product is a bit pricey for the amt. rece...\n",
       "568433    I just bought this soup today at my local groc...\n",
       "568439    We need this for a recipe my wife is intereste...\n",
       "568446    I had ordered some of these a few months back ...\n",
       "568447    Hoping there is no MSG in this, this tastes ex...\n",
       "Name: Text, Length: 147324, dtype: object"
      ]
     },
     "execution_count": 23,
     "metadata": {},
     "output_type": "execute_result"
    }
   ],
   "source": [
    "df[df['Text'].str.contains('<')]['Text']"
   ]
  },
  {
   "cell_type": "code",
   "execution_count": 24,
   "id": "e390a23a",
   "metadata": {},
   "outputs": [
    {
     "data": {
      "text/plain": [
       "\"I have lived out of the US for over 7 yrs now, and I so miss my Twizzlers!!  When I go back to visit or someone visits me, I always stock up.  All I can say is YUM!<br />Sell these in Mexico and you will have a faithful buyer, more often than I'm able to buy them right now.\""
      ]
     },
     "execution_count": 24,
     "metadata": {},
     "output_type": "execute_result"
    }
   ],
   "source": [
    "df[df['Text'].str.contains('<')]['Text'].iloc[3]"
   ]
  },
  {
   "cell_type": "code",
   "execution_count": 25,
   "id": "c1d713a7",
   "metadata": {},
   "outputs": [
    {
     "data": {
      "text/plain": [
       "'Product received is as advertised.<br /><br /><a href=\"http://www.amazon.com/gp/product/B001GVISJM\">Twizzlers, Strawberry, 16-Ounce Bags (Pack of 6)</a>'"
      ]
     },
     "execution_count": 25,
     "metadata": {},
     "output_type": "execute_result"
    }
   ],
   "source": [
    "df[df['Text'].str.contains('<')]['Text'].iloc[4]"
   ]
  },
  {
   "cell_type": "code",
   "execution_count": 26,
   "id": "f1c2bdc1",
   "metadata": {},
   "outputs": [
    {
     "data": {
      "text/plain": [
       "'I was so glad Amazon carried these batteries.  I have a hard time finding them elsewhere because they are such a unique size.  I need them for my garage door opener.<br />Great deal for the price.'"
      ]
     },
     "execution_count": 26,
     "metadata": {},
     "output_type": "execute_result"
    }
   ],
   "source": [
    "df[df['Text'].str.contains('<')]['Text'].iloc[5]"
   ]
  },
  {
   "cell_type": "code",
   "execution_count": 27,
   "id": "76a3aa0a",
   "metadata": {},
   "outputs": [
    {
     "data": {
      "text/plain": [
       "['br /',\n",
       " 'br /',\n",
       " 'br /',\n",
       " 'br /',\n",
       " 'br /',\n",
       " 'br /',\n",
       " 'br /',\n",
       " 'br /',\n",
       " 'br /',\n",
       " 'br /',\n",
       " 'br /',\n",
       " 'br /',\n",
       " 'br /',\n",
       " 'br /',\n",
       " 'br /',\n",
       " 'br /',\n",
       " 'br /',\n",
       " 'br /',\n",
       " 'br /',\n",
       " 'br /']"
      ]
     },
     "execution_count": 27,
     "metadata": {},
     "output_type": "execute_result"
    }
   ],
   "source": [
    "[itm[0] for itm in df['Text'].str.findall(\"\\<(.*?)\\>\") if len(itm)>0][:20]"
   ]
  },
  {
   "cell_type": "code",
   "execution_count": 28,
   "id": "936b52db",
   "metadata": {
    "scrolled": true
   },
   "outputs": [
    {
     "data": {
      "text/plain": [
       "['br /',\n",
       " 'br /',\n",
       " 'br /',\n",
       " 'br /',\n",
       " 'br /',\n",
       " 'br /',\n",
       " 'br /',\n",
       " 'br /',\n",
       " 'br /',\n",
       " 'br /',\n",
       " 'a href=\"http://www.amazon.com/gp/product/B000F782JY\"',\n",
       " 'a href=\"http://www.amazon.com/gp/product/B004BY23I8\"',\n",
       " 'br /',\n",
       " 'br /',\n",
       " 'br /',\n",
       " 'br /',\n",
       " 'br /',\n",
       " 'br /',\n",
       " 'br /',\n",
       " 'br /']"
      ]
     },
     "execution_count": 28,
     "metadata": {},
     "output_type": "execute_result"
    }
   ],
   "source": [
    "[itm[0] for itm in df['Text'].str.findall(\"\\<(.*?)\\>\") if len(itm)>0][-20:]"
   ]
  },
  {
   "cell_type": "markdown",
   "id": "f79de44b",
   "metadata": {},
   "source": [
    "Apart from `<br />` characters, there are other HTML syntax related characters."
   ]
  },
  {
   "cell_type": "markdown",
   "id": "b5fff3f1",
   "metadata": {},
   "source": [
    "## Data cleaning"
   ]
  },
  {
   "cell_type": "code",
   "execution_count": 29,
   "id": "f9f65dec",
   "metadata": {},
   "outputs": [],
   "source": [
    "# Let us create a copy of a dataframe for further cleaning\n",
    "df_clean = df.copy()"
   ]
  },
  {
   "cell_type": "markdown",
   "id": "9855c4fe",
   "metadata": {},
   "source": [
    "Remove all HTML related characters"
   ]
  },
  {
   "cell_type": "code",
   "execution_count": 30,
   "id": "f63c7483",
   "metadata": {},
   "outputs": [],
   "source": [
    "df_clean['Text'] = df_clean['Text'].replace(to_replace =\"\\<(.*?)\\>\", value = \"\", regex = True)"
   ]
  },
  {
   "cell_type": "code",
   "execution_count": 31,
   "id": "9d5ef222",
   "metadata": {},
   "outputs": [
    {
     "data": {
      "text/plain": [
       "[]"
      ]
     },
     "execution_count": 31,
     "metadata": {},
     "output_type": "execute_result"
    }
   ],
   "source": [
    "[itm[0] for itm in df_clean['Text'].str.findall(\"\\<(.*?)\\>\") if len(itm)>0]"
   ]
  },
  {
   "cell_type": "code",
   "execution_count": 32,
   "id": "13889e3a",
   "metadata": {},
   "outputs": [
    {
     "data": {
      "text/plain": [
       "\"I don't know if it's the cactus or the tequila or just the unique combination of ingredients, but the flavour of this hot sauce makes it one of a kind!  We picked up a bottle once on a trip we were on and brought it back home with us and were totally blown away!  When we realized that we simply couldn't find it anywhere in our city we were bummed.Now, because of the magic of the internet, we have a case of the sauce and are ecstatic because of it.If you love hot sauce..I mean really love hot sauce, but don't want a sauce that tastelessly burns your throat, grab a bottle of Tequila Picante Gourmet de Inclan.  Just realize that once you taste it, you will never want to use any other sauce.Thank you for the personal, incredible service!\""
      ]
     },
     "execution_count": 32,
     "metadata": {},
     "output_type": "execute_result"
    }
   ],
   "source": [
    "df_clean['Text'][10]"
   ]
  },
  {
   "cell_type": "code",
   "execution_count": 33,
   "id": "7d22e8a2",
   "metadata": {},
   "outputs": [],
   "source": [
    "df_clean = df_clean.sample(frac=0.4, replace=False, random_state=23)"
   ]
  },
  {
   "cell_type": "code",
   "execution_count": 34,
   "id": "6680ddef",
   "metadata": {},
   "outputs": [
    {
     "data": {
      "text/plain": [
       "(227382, 10)"
      ]
     },
     "execution_count": 34,
     "metadata": {},
     "output_type": "execute_result"
    }
   ],
   "source": [
    "df_clean.shape"
   ]
  },
  {
   "cell_type": "code",
   "execution_count": 35,
   "id": "b8be6c05",
   "metadata": {},
   "outputs": [
    {
     "data": {
      "text/plain": [
       "(568454, 10)"
      ]
     },
     "execution_count": 35,
     "metadata": {},
     "output_type": "execute_result"
    }
   ],
   "source": [
    "df.shape"
   ]
  },
  {
   "cell_type": "code",
   "execution_count": 36,
   "id": "226f5364",
   "metadata": {},
   "outputs": [],
   "source": [
    "del df"
   ]
  },
  {
   "cell_type": "markdown",
   "id": "5c8a8365",
   "metadata": {},
   "source": [
    "## Analysis"
   ]
  },
  {
   "cell_type": "markdown",
   "id": "55104d7b",
   "metadata": {},
   "source": [
    "### Vectorizing data"
   ]
  },
  {
   "cell_type": "code",
   "execution_count": 37,
   "id": "7ca9e5d9",
   "metadata": {},
   "outputs": [],
   "source": [
    "tfidf_vectorizer = TfidfVectorizer(stop_words='english')\n",
    "tfidf_matrix = tfidf_vectorizer.fit_transform(df_clean['Text'])"
   ]
  },
  {
   "cell_type": "code",
   "execution_count": 38,
   "id": "d065867c",
   "metadata": {
    "scrolled": true
   },
   "outputs": [
    {
     "name": "stdout",
     "output_type": "stream",
     "text": [
      "  (0, 14484)\t0.09596657690462575\n",
      "  (0, 23617)\t0.12385423313076081\n",
      "  (0, 35705)\t0.16069754433775482\n",
      "  (0, 42032)\t0.19681191497421374\n",
      "  (0, 32016)\t0.08161720059290008\n",
      "  (0, 84206)\t0.1836223675939946\n",
      "  (0, 77749)\t0.16053069325134475\n",
      "  (0, 18368)\t0.15877021847285916\n",
      "  (0, 38500)\t0.16389799579661957\n",
      "  (0, 17184)\t0.16085596242814032\n",
      "  (0, 63868)\t0.21230387479160054\n",
      "  (0, 46345)\t0.06683242345249504\n",
      "  (0, 72273)\t0.15063484817940756\n",
      "  (0, 84560)\t0.20069096076554205\n",
      "  (0, 71074)\t0.18514959432505923\n",
      "  (0, 47326)\t0.08199205392755884\n",
      "  (0, 26072)\t0.11549614898307617\n",
      "  (0, 12604)\t0.38815265554565215\n",
      "  (0, 56869)\t0.13144897494621965\n",
      "  (0, 55543)\t0.14716737559430995\n",
      "  (0, 58464)\t0.12052814568773658\n",
      "  (0, 80551)\t0.13096144525969697\n",
      "  (0, 38220)\t0.12109903052660245\n",
      "  (0, 47132)\t0.1268594859453903\n",
      "  (0, 20349)\t0.2122540466162181\n",
      "  :\t:\n",
      "  (227381, 77279)\t0.12677822085662105\n",
      "  (227381, 10941)\t0.07419023627626481\n",
      "  (227381, 9085)\t0.08573951403421622\n",
      "  (227381, 20794)\t0.1349216226387741\n",
      "  (227381, 80290)\t0.08993029628747684\n",
      "  (227381, 20815)\t0.07663946241048746\n",
      "  (227381, 84947)\t0.10296994905779307\n",
      "  (227381, 11277)\t0.09294456960631034\n",
      "  (227381, 31114)\t0.06330829268065916\n",
      "  (227381, 41496)\t0.12025448787304768\n",
      "  (227381, 33456)\t0.060292831708489356\n",
      "  (227381, 84698)\t0.056247262834662054\n",
      "  (227381, 27404)\t0.060196593517897114\n",
      "  (227381, 4892)\t0.05875123832671785\n",
      "  (227381, 26221)\t0.04478471110853736\n",
      "  (227381, 73199)\t0.07504305261143955\n",
      "  (227381, 80987)\t0.048025238624748584\n",
      "  (227381, 11835)\t0.08911661954961164\n",
      "  (227381, 79006)\t0.06065544839497457\n",
      "  (227381, 64047)\t0.08736320365769595\n",
      "  (227381, 77244)\t0.03689035855987054\n",
      "  (227381, 11348)\t0.047807814530930456\n",
      "  (227381, 23617)\t0.05978527922745989\n",
      "  (227381, 46345)\t0.09678139365661043\n",
      "  (227381, 47326)\t0.039578121107227617\n"
     ]
    }
   ],
   "source": [
    "print(tfidf_matrix)"
   ]
  },
  {
   "cell_type": "code",
   "execution_count": 39,
   "id": "352a9bda",
   "metadata": {},
   "outputs": [
    {
     "data": {
      "text/plain": [
       "(227382, 88065)"
      ]
     },
     "execution_count": 39,
     "metadata": {},
     "output_type": "execute_result"
    }
   ],
   "source": [
    "tfidf_matrix.shape"
   ]
  },
  {
   "cell_type": "code",
   "execution_count": 40,
   "id": "8c98ad03",
   "metadata": {},
   "outputs": [],
   "source": [
    "tfidf_np_matrix = tfidf_matrix.toarray()\n",
    "tfidf_vector = tfidf_np_matrix[0]\n",
    "tfidf_non_zero_indices = np.flatnonzero(tfidf_vector)"
   ]
  },
  {
   "cell_type": "code",
   "execution_count": 41,
   "id": "ffc50579",
   "metadata": {},
   "outputs": [
    {
     "data": {
      "text/plain": [
       "array([ 6537,  9647, 12604, 12925, 14484, 17184, 18368, 20349, 23617,\n",
       "       26072, 32016, 35657, 35705, 38220, 38500, 42032, 46345, 47132,\n",
       "       47326, 55543, 56869, 58464, 62017, 63868, 66084, 71074, 72273,\n",
       "       73357, 77749, 80551, 84206, 84560])"
      ]
     },
     "execution_count": 41,
     "metadata": {},
     "output_type": "execute_result"
    }
   ],
   "source": [
    "tfidf_non_zero_indices"
   ]
  },
  {
   "cell_type": "code",
   "execution_count": 42,
   "id": "a11a1409",
   "metadata": {},
   "outputs": [],
   "source": [
    "words = tfidf_vectorizer.get_feature_names()"
   ]
  },
  {
   "cell_type": "code",
   "execution_count": 43,
   "id": "332be70d",
   "metadata": {},
   "outputs": [],
   "source": [
    "unique_words = [words[i] for i in tfidf_non_zero_indices]"
   ]
  },
  {
   "cell_type": "code",
   "execution_count": 44,
   "id": "2255338a",
   "metadata": {},
   "outputs": [
    {
     "data": {
      "text/plain": [
       "['amazon',\n",
       " 'badly',\n",
       " 'bone',\n",
       " 'bought',\n",
       " 'buy',\n",
       " 'chew',\n",
       " 'clean',\n",
       " 'constantly',\n",
       " 'definitely',\n",
       " 'dog',\n",
       " 'flavor',\n",
       " 'golden',\n",
       " 'gone',\n",
       " 'healthy',\n",
       " 'helps',\n",
       " 'interested',\n",
       " 'like',\n",
       " 'looking',\n",
       " 'love',\n",
       " 'open',\n",
       " 'package',\n",
       " 'perfect',\n",
       " 'promotion',\n",
       " 'rawhide',\n",
       " 'retrievers',\n",
       " 'sit',\n",
       " 'soft',\n",
       " 'spoiled',\n",
       " 'teeth',\n",
       " 'treats',\n",
       " 'vitamins',\n",
       " 'waiting']"
      ]
     },
     "execution_count": 44,
     "metadata": {},
     "output_type": "execute_result"
    }
   ],
   "source": [
    "unique_words"
   ]
  },
  {
   "cell_type": "code",
   "execution_count": 45,
   "id": "7244b6d9",
   "metadata": {},
   "outputs": [],
   "source": [
    "data = {'Word': unique_words,\n",
    "        'TFIDF': tfidf_vector[tfidf_non_zero_indices]}"
   ]
  },
  {
   "cell_type": "code",
   "execution_count": 46,
   "id": "e9d21832",
   "metadata": {},
   "outputs": [
    {
     "data": {
      "text/plain": [
       "{'Word': ['amazon',\n",
       "  'badly',\n",
       "  'bone',\n",
       "  'bought',\n",
       "  'buy',\n",
       "  'chew',\n",
       "  'clean',\n",
       "  'constantly',\n",
       "  'definitely',\n",
       "  'dog',\n",
       "  'flavor',\n",
       "  'golden',\n",
       "  'gone',\n",
       "  'healthy',\n",
       "  'helps',\n",
       "  'interested',\n",
       "  'like',\n",
       "  'looking',\n",
       "  'love',\n",
       "  'open',\n",
       "  'package',\n",
       "  'perfect',\n",
       "  'promotion',\n",
       "  'rawhide',\n",
       "  'retrievers',\n",
       "  'sit',\n",
       "  'soft',\n",
       "  'spoiled',\n",
       "  'teeth',\n",
       "  'treats',\n",
       "  'vitamins',\n",
       "  'waiting'],\n",
       " 'TFIDF': array([0.09389649, 0.23389739, 0.38815266, 0.10819354, 0.09596658,\n",
       "        0.16085596, 0.15877022, 0.21225405, 0.12385423, 0.11549615,\n",
       "        0.0816172 , 0.19702346, 0.16069754, 0.12109903, 0.163898  ,\n",
       "        0.19681191, 0.06683242, 0.12685949, 0.08199205, 0.14716738,\n",
       "        0.13144897, 0.12052815, 0.26204498, 0.21230387, 0.27500825,\n",
       "        0.18514959, 0.15063485, 0.2109861 , 0.16053069, 0.13096145,\n",
       "        0.18362237, 0.20069096])}"
      ]
     },
     "execution_count": 46,
     "metadata": {},
     "output_type": "execute_result"
    }
   ],
   "source": [
    "data"
   ]
  },
  {
   "cell_type": "code",
   "execution_count": 47,
   "id": "6ba39478",
   "metadata": {},
   "outputs": [],
   "source": [
    "df_data = pd.DataFrame(data)"
   ]
  },
  {
   "cell_type": "code",
   "execution_count": 48,
   "id": "7572d58c",
   "metadata": {},
   "outputs": [
    {
     "data": {
      "text/html": [
       "<div>\n",
       "<style scoped>\n",
       "    .dataframe tbody tr th:only-of-type {\n",
       "        vertical-align: middle;\n",
       "    }\n",
       "\n",
       "    .dataframe tbody tr th {\n",
       "        vertical-align: top;\n",
       "    }\n",
       "\n",
       "    .dataframe thead th {\n",
       "        text-align: right;\n",
       "    }\n",
       "</style>\n",
       "<table border=\"1\" class=\"dataframe\">\n",
       "  <thead>\n",
       "    <tr style=\"text-align: right;\">\n",
       "      <th></th>\n",
       "      <th>Word</th>\n",
       "      <th>TFIDF</th>\n",
       "    </tr>\n",
       "  </thead>\n",
       "  <tbody>\n",
       "    <tr>\n",
       "      <th>0</th>\n",
       "      <td>amazon</td>\n",
       "      <td>0.093896</td>\n",
       "    </tr>\n",
       "    <tr>\n",
       "      <th>1</th>\n",
       "      <td>badly</td>\n",
       "      <td>0.233897</td>\n",
       "    </tr>\n",
       "    <tr>\n",
       "      <th>2</th>\n",
       "      <td>bone</td>\n",
       "      <td>0.388153</td>\n",
       "    </tr>\n",
       "    <tr>\n",
       "      <th>3</th>\n",
       "      <td>bought</td>\n",
       "      <td>0.108194</td>\n",
       "    </tr>\n",
       "    <tr>\n",
       "      <th>4</th>\n",
       "      <td>buy</td>\n",
       "      <td>0.095967</td>\n",
       "    </tr>\n",
       "  </tbody>\n",
       "</table>\n",
       "</div>"
      ],
      "text/plain": [
       "     Word     TFIDF\n",
       "0  amazon  0.093896\n",
       "1   badly  0.233897\n",
       "2    bone  0.388153\n",
       "3  bought  0.108194\n",
       "4     buy  0.095967"
      ]
     },
     "execution_count": 48,
     "metadata": {},
     "output_type": "execute_result"
    }
   ],
   "source": [
    "df_data.head()"
   ]
  },
  {
   "cell_type": "code",
   "execution_count": 49,
   "id": "2fba90a1",
   "metadata": {},
   "outputs": [
    {
     "name": "stdout",
     "output_type": "stream",
     "text": [
      "After stop-word deletion, 32 unique words remain.\n",
      "The 10 most frequent words are:\n",
      "\n",
      "          Word     TFIDF\n",
      "2         bone  0.388153\n",
      "24  retrievers  0.275008\n",
      "22   promotion  0.262045\n",
      "1        badly  0.233897\n",
      "23     rawhide  0.212304\n",
      "7   constantly  0.212254\n",
      "27     spoiled  0.210986\n",
      "31     waiting  0.200691\n",
      "11      golden  0.197023\n",
      "15  interested  0.196812\n"
     ]
    }
   ],
   "source": [
    "print(\"After stop-word deletion, {} unique words remain.\".format(df_data.shape[0]))\n",
    "print(\"The 10 most frequent words are:\\n\")\n",
    "print(df_data.sort_values(by='TFIDF', ascending=False)[:10])"
   ]
  },
  {
   "cell_type": "markdown",
   "id": "dd7d89d8",
   "metadata": {},
   "source": [
    "### Dimensionality reduction"
   ]
  },
  {
   "cell_type": "markdown",
   "id": "928efeae",
   "metadata": {},
   "source": [
    "#### Dimensionally reducing `tfidf_matrix` using SVD"
   ]
  },
  {
   "cell_type": "code",
   "execution_count": 50,
   "id": "7ab39765",
   "metadata": {},
   "outputs": [],
   "source": [
    "shrunk_matrix = TruncatedSVD(n_components=100).fit_transform(tfidf_matrix)"
   ]
  },
  {
   "cell_type": "code",
   "execution_count": 51,
   "id": "b8002274",
   "metadata": {},
   "outputs": [
    {
     "name": "stdout",
     "output_type": "stream",
     "text": [
      "We've dimensionally-reduced a 88065-column <class 'scipy.sparse.csr.csr_matrix'> matrix.\n",
      "Our output is a 100-column <class 'numpy.ndarray'> matrix.\n"
     ]
    }
   ],
   "source": [
    "print(\"We've dimensionally-reduced a {}-column {} matrix.\".format(tfidf_matrix.shape[1], type(tfidf_matrix)))\n",
    "print(\"Our output is a {}-column {} matrix.\".format(shrunk_matrix.shape[1], type(shrunk_matrix)))"
   ]
  },
  {
   "cell_type": "code",
   "execution_count": 52,
   "id": "9f621f0f",
   "metadata": {},
   "outputs": [],
   "source": [
    "magnitude = norm(shrunk_matrix[0])"
   ]
  },
  {
   "cell_type": "code",
   "execution_count": 53,
   "id": "9bf19fd3",
   "metadata": {},
   "outputs": [
    {
     "name": "stdout",
     "output_type": "stream",
     "text": [
      "The magnitude  of the firtst row is 0.35518673446746035\n"
     ]
    }
   ],
   "source": [
    "print(\"The magnitude  of the firtst row is {}\".format(magnitude))"
   ]
  },
  {
   "cell_type": "markdown",
   "id": "7225fd6b",
   "metadata": {},
   "source": [
    "The magnitude of the row is less than 1. Scikit-learn's SVD output has not been automatically normalized. We need to normalize the matrix before computing the similarities."
   ]
  },
  {
   "cell_type": "markdown",
   "id": "e0fb1d42",
   "metadata": {},
   "source": [
    "#### Normalizing the SVD output"
   ]
  },
  {
   "cell_type": "code",
   "execution_count": 54,
   "id": "747a6e9b",
   "metadata": {},
   "outputs": [
    {
     "name": "stdout",
     "output_type": "stream",
     "text": [
      "The magnitude of the first row is 1.0\n"
     ]
    }
   ],
   "source": [
    "shrunk_norm_matrix = normalize(shrunk_matrix)\n",
    "magnitude = norm(shrunk_norm_matrix[0])\n",
    "print(\"The magnitude of the first row is {}\".format(magnitude))"
   ]
  },
  {
   "cell_type": "markdown",
   "id": "cc30a5e4",
   "metadata": {},
   "source": [
    "### Calculating all-by-all cosine similarities"
   ]
  },
  {
   "cell_type": "code",
   "execution_count": null,
   "id": "77a99452",
   "metadata": {},
   "outputs": [],
   "source": [
    "cosine_similarity_matrix = shrunk_norm_matrix @ shrunk_norm_matrix.T"
   ]
  },
  {
   "cell_type": "code",
   "execution_count": null,
   "id": "1474516f",
   "metadata": {},
   "outputs": [],
   "source": [
    "cosine_similarity_matrix "
   ]
  },
  {
   "cell_type": "markdown",
   "id": "3f6685e9",
   "metadata": {},
   "source": [
    "We have our similarity matrix. Let's choose a random pair of very similar texts."
   ]
  },
  {
   "cell_type": "code",
   "execution_count": null,
   "id": "05c60d33",
   "metadata": {},
   "outputs": [],
   "source": []
  },
  {
   "cell_type": "code",
   "execution_count": null,
   "id": "5b637cd4",
   "metadata": {},
   "outputs": [],
   "source": []
  },
  {
   "cell_type": "code",
   "execution_count": null,
   "id": "209413c6",
   "metadata": {},
   "outputs": [],
   "source": []
  },
  {
   "cell_type": "code",
   "execution_count": null,
   "id": "62672feb",
   "metadata": {},
   "outputs": [],
   "source": []
  },
  {
   "cell_type": "code",
   "execution_count": null,
   "id": "11de3ad4",
   "metadata": {},
   "outputs": [],
   "source": []
  },
  {
   "cell_type": "code",
   "execution_count": null,
   "id": "66496f8c",
   "metadata": {},
   "outputs": [],
   "source": []
  },
  {
   "cell_type": "code",
   "execution_count": null,
   "id": "4aa02c8e",
   "metadata": {},
   "outputs": [],
   "source": []
  },
  {
   "cell_type": "code",
   "execution_count": null,
   "id": "d761df75",
   "metadata": {},
   "outputs": [],
   "source": []
  },
  {
   "cell_type": "code",
   "execution_count": null,
   "id": "10af0837",
   "metadata": {},
   "outputs": [],
   "source": []
  },
  {
   "cell_type": "code",
   "execution_count": null,
   "id": "52280f26",
   "metadata": {},
   "outputs": [],
   "source": []
  },
  {
   "cell_type": "code",
   "execution_count": null,
   "id": "24cf9e8a",
   "metadata": {},
   "outputs": [],
   "source": []
  },
  {
   "cell_type": "code",
   "execution_count": null,
   "id": "cba2911d",
   "metadata": {},
   "outputs": [],
   "source": []
  }
 ],
 "metadata": {
  "kernelspec": {
   "display_name": "Python 3 (ipykernel)",
   "language": "python",
   "name": "python3"
  },
  "language_info": {
   "codemirror_mode": {
    "name": "ipython",
    "version": 3
   },
   "file_extension": ".py",
   "mimetype": "text/x-python",
   "name": "python",
   "nbconvert_exporter": "python",
   "pygments_lexer": "ipython3",
   "version": "3.7.9"
  }
 },
 "nbformat": 4,
 "nbformat_minor": 5
}
